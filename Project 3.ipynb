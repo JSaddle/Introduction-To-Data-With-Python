{
 "cells": [
  {
   "cell_type": "markdown",
   "metadata": {},
   "source": [
    "# Project 3"
   ]
  },
  {
   "cell_type": "markdown",
   "metadata": {},
   "source": [
    "By Jacob Saddler"
   ]
  },
  {
   "cell_type": "markdown",
   "metadata": {},
   "source": [
    "# Question 1"
   ]
  },
  {
   "cell_type": "markdown",
   "metadata": {},
   "source": [
    "## 1(A)."
   ]
  },
  {
   "cell_type": "code",
   "execution_count": 1,
   "metadata": {},
   "outputs": [],
   "source": [
    "import numpy as np\n",
    "import sympy as sp\n",
    "import matplotlib.pyplot as plt\n",
    "C0, C, mpc, I, I0, b, r, G, Y, m, k, t, h = sp.symbols(\"C0, C, mpc, I, I0, b, r, G, Y, m, k, t, h\")"
   ]
  },
  {
   "cell_type": "markdown",
   "metadata": {},
   "source": [
    "Above, we used sympy to define our variables so that our equations will recognize the variables that are apart of the equations used below."
   ]
  },
  {
   "cell_type": "code",
   "execution_count": 2,
   "metadata": {},
   "outputs": [],
   "source": [
    "def IS_r(Y):   \n",
    "    return 1/b*(C0+I0+G-Y*(1-mpc)-(Y*t*mpc)) # Here, we defined the equation for IS"
   ]
  },
  {
   "cell_type": "code",
   "execution_count": 3,
   "metadata": {},
   "outputs": [],
   "source": [
    "C = C0 + mpc*(1-t)*Y # Here, we defined Consumption and included mpc*(1-t)*Y in order to account for taxes\n",
    "I = I0 - b*r         # Here, we defined Investment\n",
    "Y = C + I + G        # Here, we defined Output"
   ]
  },
  {
   "cell_type": "code",
   "execution_count": 4,
   "metadata": {},
   "outputs": [],
   "source": [
    "IS = sp.solve(C0 + G + I0 + mpc*(1-t)*Y - b*r - Y, r)[0] # Here, we utilize sympy to solve for Y*"
   ]
  },
  {
   "cell_type": "code",
   "execution_count": 5,
   "metadata": {},
   "outputs": [
    {
     "data": {
      "text/latex": [
       "$\\displaystyle \\frac{k \\left(C_{0} + G + I_{0} + Y mpc \\left(1 - t\\right) - b r\\right)}{h} - \\frac{m}{h}$"
      ],
      "text/plain": [
       "k*(C0 + G + I0 + Y*mpc*(1 - t) - b*r)/h - m/h"
      ]
     },
     "execution_count": 5,
     "metadata": {},
     "output_type": "execute_result"
    }
   ],
   "source": [
    "def LM_r(Y):\n",
    "    return k/h*Y-1/h*m   # Here, we defined the LM equation\n",
    "LM_r(Y)"
   ]
  },
  {
   "cell_type": "code",
   "execution_count": 6,
   "metadata": {},
   "outputs": [
    {
     "data": {
      "text/latex": [
       "$\\displaystyle \\frac{C_{0} h + G h + I_{0} h + b m}{b k + h mpc t - h mpc + h}$"
      ],
      "text/plain": [
       "(C0*h + G*h + I0*h + b*m)/(b*k + h*mpc*t - h*mpc + h)"
      ]
     },
     "execution_count": 6,
     "metadata": {},
     "output_type": "execute_result"
    }
   ],
   "source": [
    "Y_star = sp.solve(LM_r(Y)-IS_r(Y),Y)[0] # Here, we set LM minus IS equal to zero so we can find the value of Y*\n",
    "Y_star"
   ]
  },
  {
   "cell_type": "markdown",
   "metadata": {},
   "source": [
    "Above we have derived $Y^*$ at equilibrium as a function of $Y$, when you plug $Y$ into the function LM - IS = 0."
   ]
  },
  {
   "cell_type": "code",
   "execution_count": 7,
   "metadata": {},
   "outputs": [
    {
     "data": {
      "text/latex": [
       "$\\displaystyle \\frac{k \\left(C_{0} h + G h + I_{0} h + b m\\right)}{h \\left(b k + h mpc t - h mpc + h\\right)} - \\frac{m}{h}$"
      ],
      "text/plain": [
       "k*(C0*h + G*h + I0*h + b*m)/(h*(b*k + h*mpc*t - h*mpc + h)) - m/h"
      ]
     },
     "execution_count": 7,
     "metadata": {},
     "output_type": "execute_result"
    }
   ],
   "source": [
    "r_star = LM_r(Y_star) # Here, we plugin Y* to the LM equation in order to find the value of r*\n",
    "r_star"
   ]
  },
  {
   "cell_type": "markdown",
   "metadata": {},
   "source": [
    "Above we have derived $r^*$ at equilibrium as a function of $Y^*$."
   ]
  },
  {
   "cell_type": "markdown",
   "metadata": {},
   "source": [
    "## 1(B)."
   ]
  },
  {
   "cell_type": "code",
   "execution_count": 8,
   "metadata": {},
   "outputs": [
    {
     "name": "stdout",
     "output_type": "stream",
     "text": [
      "b/(b*k + h*mpc*t - h*mpc + h)\n",
      "b*k/(h*(b*k + h*mpc*t - h*mpc + h)) - 1/h\n"
     ]
    }
   ],
   "source": [
    "diff_Y_m = sp.diff(Y_star, m)\n",
    "Y_diffs = [sp.diff(Y_star, i) for i in (m,G)] # Derivative of equilibrium output with respect to m and g\n",
    "r_diffs = [sp.diff(r_star, i) for i in (m,G)] # Derivative of equilibrium interest rate with respect to m and g\n",
    "print(Y_diffs[0])\n",
    "print(r_diffs[0])"
   ]
  },
  {
   "cell_type": "code",
   "execution_count": 9,
   "metadata": {},
   "outputs": [],
   "source": [
    "mpc = 0.75\n",
    "C0, I0, G = 0, 0, 1\n",
    "b = 1\n",
    "k = 0.5\n",
    "h = 0.6\n",
    "t = 0.1"
   ]
  },
  {
   "cell_type": "markdown",
   "metadata": {},
   "source": [
    "Below, we have calculated the derivative of the output at the equilibrium with respect to $m$. This will tell us how sensitive output is to a change in money balances."
   ]
  },
  {
   "cell_type": "code",
   "execution_count": 10,
   "metadata": {},
   "outputs": [
    {
     "data": {
      "text/plain": [
       "1.4388489208633093"
      ]
     },
     "execution_count": 10,
     "metadata": {},
     "output_type": "execute_result"
    }
   ],
   "source": [
    "b/(b*k + h*mpc*t - h*mpc + h)"
   ]
  },
  {
   "cell_type": "markdown",
   "metadata": {},
   "source": [
    "Below, we have calculated the derivative of the interest rate at the equilibrium with respect to $M/P$. This will tell us how sensitive interest rate is to a change in money balances."
   ]
  },
  {
   "cell_type": "code",
   "execution_count": 11,
   "metadata": {},
   "outputs": [
    {
     "data": {
      "text/plain": [
       "-0.46762589928057574"
      ]
     },
     "execution_count": 11,
     "metadata": {},
     "output_type": "execute_result"
    }
   ],
   "source": [
    "b*k/(h*(b*k + h*mpc*t - h*mpc + h)) - 1/h"
   ]
  },
  {
   "cell_type": "code",
   "execution_count": 12,
   "metadata": {},
   "outputs": [
    {
     "name": "stdout",
     "output_type": "stream",
     "text": [
      "h/(b*k + h*mpc*t - h*mpc + h)\n",
      "k/(b*k + h*mpc*t - h*mpc + h)\n"
     ]
    }
   ],
   "source": [
    "print(Y_diffs[1]) # Derivative of the output at the equilibrium with respect to G\n",
    "print(r_diffs[1]) # Derivative of the interest rate at the equilibrium with respect to G"
   ]
  },
  {
   "cell_type": "markdown",
   "metadata": {},
   "source": [
    "Below, we have calculated the derivative of the output at the equilibrium with respect to $G$. This will tell us how sensitive output is to a change in Government Expenditures."
   ]
  },
  {
   "cell_type": "code",
   "execution_count": 13,
   "metadata": {},
   "outputs": [
    {
     "data": {
      "text/plain": [
       "0.8633093525179855"
      ]
     },
     "execution_count": 13,
     "metadata": {},
     "output_type": "execute_result"
    }
   ],
   "source": [
    "h/(b*k + h*mpc*t - h*mpc + h)"
   ]
  },
  {
   "cell_type": "markdown",
   "metadata": {},
   "source": [
    "Below, we have calculated the derivative of the interest rate at the equilibrium with respect to $G$. This will tell us how sensitive output is to a change in Government Expenditures."
   ]
  },
  {
   "cell_type": "code",
   "execution_count": 14,
   "metadata": {},
   "outputs": [
    {
     "data": {
      "text/plain": [
       "0.7194244604316546"
      ]
     },
     "execution_count": 14,
     "metadata": {},
     "output_type": "execute_result"
    }
   ],
   "source": [
    "k/(b*k + h*mpc*t - h*mpc + h)"
   ]
  },
  {
   "cell_type": "markdown",
   "metadata": {},
   "source": [
    "Since the goal for everyone is gdp growth, we will take a look at how the derivatives of the outputs differ from each other. Because the derivative of the ouptut at the equilibrium with respect to $M/P$ $(1.4388489208633093)$ is larger than the derivative of the output at the equilibrium with respect to $G$ $(0.8633093525179855)$, output is more sensitive to a change in money balances. Therefore, a $1%$ increase in money balances is more effective at bringing about gdp growth than a $1%$ increase in government expenditures."
   ]
  },
  {
   "cell_type": "markdown",
   "metadata": {},
   "source": [
    "## 1(C)."
   ]
  },
  {
   "cell_type": "code",
   "execution_count": 15,
   "metadata": {},
   "outputs": [
    {
     "data": {
      "text/plain": [
       "[]"
      ]
     },
     "execution_count": 15,
     "metadata": {},
     "output_type": "execute_result"
    },
    {
     "data": {
      "image/png": "[encoded data removed]",
      "text/plain": [
       "<Figure size 432x288 with 1 Axes>"
      ]
     },
     "metadata": {
      "needs_background": "light"
     },
     "output_type": "display_data"
    }
   ],
   "source": [
    "import matplotlib.pyplot as plt\n",
    "k = np.linspace(0.2, 1, 100)\n",
    "plt.figure()\n",
    "plt.plot(k, b/(b*k + h*mpc*t - h*mpc + h), label = 'dY/dm')\n",
    "plt.plot(k, h/(b*k + h*mpc*t - h*mpc + h), label = 'dY/dG')\n",
    "plt.plot(k, b*k/(h*(b*k + h*mpc*t - h*mpc + h)) - 1/h, label = 'dr/dm')\n",
    "plt.plot(k, k/(b*k + h*mpc*t - h*mpc + h), label = 'dr/dG')\n",
    "plt.title('Derivatives of Equilibrium $M/P$ and $G$')\n",
    "plt.xlabel('Value of k')\n",
    "plt.ylabel('Resulting Value')\n",
    "plt.legend()\n",
    "plt.plot()"
   ]
  },
  {
   "cell_type": "markdown",
   "metadata": {},
   "source": [
    "In our graph, we can see that Output is the most sensitive to changes in money balances, as it varies the most in comparison to the other variables, therefore validating the results we found in 1(B). Furthermore, we can see that as the value of k increases, dY/dm and dr/dG converge. This means that as the sensitivity to money, or k, increases, Government expenditures become just as effective at impacting the interest rate as money balances are at impacting Output. Furthermore, it seems that government expenditures are less effective at impacting output than money balances are, but dY/dG still follows a trend that is similar to dY/dm. Lastly, out of the four derivatives, it is clear that in terms of effectiveness, money balances have the smallest impact on changing the interest rate. This is demonstrated by the fact that as money sensitivity increases, the resulting value of dr/dm only gets closer to zero, therefore demonstrating a decreasing impact on the interest rate."
   ]
  },
  {
   "cell_type": "markdown",
   "metadata": {},
   "source": [
    "# Question 2"
   ]
  },
  {
   "cell_type": "markdown",
   "metadata": {},
   "source": [
    "## Recession of 1960-1961"
   ]
  },
  {
   "cell_type": "markdown",
   "metadata": {},
   "source": [
    "After World War II, the U.S. experienced high inflation. While inflation eventually came back down to normal levels, the FED was wary of the price level skyrocketing again and wanted to prevent inflation from occurring before it began rising. Thus, since the FED wanted to avoid any inflation at all, the FED lowered the FED Funds Rate by purchasing securities and therefore increasing the supply of reserves. However, even though the FED aimed to prevent high inflation before it occurred, the price level didn’t end up rising in the way that the FED thought it would."
   ]
  },
  {
   "cell_type": "markdown",
   "metadata": {},
   "source": [
    "## Recession of 1969-1970"
   ]
  },
  {
   "cell_type": "markdown",
   "metadata": {},
   "source": [
    "Since the Vietnam War began in the mid 1960s, the U.S. had been borrowing much more than it was lending. Therefore, the U.S. government was increasingly incurring debt by spending money that the government was forced to borrow. Furthermore, at this specific point in time, there was no cyclical employment. Thus, deficit spending, along with little unemployment, led to a rising price level. The FED attempted to reverse the ongoing inflation by taking on a tightening policy and reducing the money supply."
   ]
  },
  {
   "cell_type": "markdown",
   "metadata": {},
   "source": [
    "## Recession of 1973-1975"
   ]
  },
  {
   "cell_type": "markdown",
   "metadata": {},
   "source": [
    "The recession of 1973-1975 was not only felt throughout the U.S., but many other western nations incurred economic downturn throughout this period of time as well. OPEC had set an embargo on multiple western countries who supported Israel in the Yom Kippur War which led to the first ever shock in oil prices. The drastic rise in oil prices ultimately dealt a blow to the U.S. economy and led to high inflation that stayed for years after the recession ended. Furthermore, President Nixon’s decision to transition from the gold standard to fiat currency further led to a rise in the price level that lasted long after the recession ended."
   ]
  },
  {
   "cell_type": "markdown",
   "metadata": {},
   "source": [
    "## Recession of 1980"
   ]
  },
  {
   "cell_type": "markdown",
   "metadata": {},
   "source": [
    "The energy crisis of 1979 involved a dramatic reduction in oil production that occurred as a result of the Iranian Revolution. This second oil shock that took place within a few years of the first oil shock destabilized the U.S. economy and led to oil shortages all over the country. While this specific recession only lasted around six months, high levels of inflation, along with increasing levels of unemployment, would ultimately play a role in causing the recession in 1981 to occur."
   ]
  },
  {
   "cell_type": "markdown",
   "metadata": {},
   "source": [
    "## Recession of 1981-1982"
   ]
  },
  {
   "cell_type": "markdown",
   "metadata": {},
   "source": [
    "Since high inflation and unemployment had permeated the U.S. as a result of the two oil shocks of the 1970s, the recession that began in 1981 was inevitable. The unemployment rate rose to nine percent as the U.S. was coming out of the recession, however the unemployment rate kept rising even after the recession was considered to be over. One reason the unemployment rate kept rising was because the U.S. also experienced high inflation throughout this same time period. Therefore, the FED faced the issue of stagflation which made it even more difficult for the FED to decide on which approach to take in order to help improve the economy. Interestingly enough, this trend in high inflation and high unemployment went against the relationship seen between these two variables demonstrated by the Phillips Curve."
   ]
  },
  {
   "cell_type": "markdown",
   "metadata": {},
   "source": [
    "## Recession of 1990-1991"
   ]
  },
  {
   "cell_type": "markdown",
   "metadata": {},
   "source": [
    "In the years leading up to the recession of the early 1990s, the FED had focused their resources on reducing inflation. The FED had aimed to raise the interest rate in the years prior to the recession since the price level was rising at a very quick pace. This was a result of the Tax Reform Act of 1986 which induced dropping housing prices and deterred investors from investing in securities. Furthermore, the third oil shock occurred in 1990 which only exacerbated the already contracting economy."
   ]
  },
  {
   "cell_type": "markdown",
   "metadata": {},
   "source": [
    "## Recession of 2001"
   ]
  },
  {
   "cell_type": "markdown",
   "metadata": {},
   "source": [
    "Before the so-called dot-com recession even began, economists had actually predicted that it would occur in one way or another. The Asian Financial Crisis of 1997 led many economists to lose faith in the fast-growing bubble that was the U.S. economy and this crisis only strengthened theorists’ views that the bubble would pop sooner or later. Interestingly enough, the U.S. recession occurred a mere four years later and the NASDAQ lost more than half of its record high value. In addition, even though this recession was marked with corporate scandals and the terrorist attacks of 9/11, the recession lasted less than a year and GDP only dropped less than one percent. "
   ]
  },
  {
   "cell_type": "markdown",
   "metadata": {},
   "source": [
    "## Recession of 2007-2009"
   ]
  },
  {
   "cell_type": "markdown",
   "metadata": {},
   "source": [
    "This recession, also known as The Great Recession, was a result of not only failing commercial banks, but also a housing industry that witnessed a foreclosure rate of almost eighty percent. Housing prices began falling in 2006 and mortgage backed securities were quickly losing a ton of their value. Thus, investment banks and commercial banks lost credibility and were forced to be bailed out by the government. In addition, many of these banks were left for dead, such as the Lehman Brothers and Bear Stearns, and permanently closed. Lastly, this recession was also unique in comparison to the other recessions above since the Great Recession impacted most developed economies around the world. It is claimed that the world has not seen a similar period of economic downturn since the Great Depression. "
   ]
  }
 ],
 "metadata": {
  "kernelspec": {
   "display_name": "Python 3",
   "language": "python",
   "name": "python3"
  },
  "language_info": {
   "codemirror_mode": {
    "name": "ipython",
    "version": 3
   },
   "file_extension": ".py",
   "mimetype": "text/x-python",
   "name": "python",
   "nbconvert_exporter": "python",
   "pygments_lexer": "ipython3",
   "version": "3.8.8"
  }
 },
 "nbformat": 4,
 "nbformat_minor": 4
}
