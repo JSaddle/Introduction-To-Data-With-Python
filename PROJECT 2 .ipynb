{
 "cells": [
  {
   "cell_type": "markdown",
   "metadata": {},
   "source": [
    "## Question 1"
   ]
  },
  {
   "cell_type": "markdown",
   "metadata": {},
   "source": [
    "1.A."
   ]
  },
  {
   "cell_type": "code",
   "execution_count": 1,
   "metadata": {},
   "outputs": [
    {
     "data": {
      "text/plain": [
       "0.8849557522123894"
      ]
     },
     "execution_count": 1,
     "metadata": {},
     "output_type": "execute_result"
    }
   ],
   "source": [
    "1 / 1.13 # First change the given Direct exchange rate to an Indirect exchange rate"
   ]
  },
  {
   "cell_type": "code",
   "execution_count": 2,
   "metadata": {},
   "outputs": [
    {
     "data": {
      "text/plain": [
       "1.2035398230088494"
      ]
     },
     "execution_count": 2,
     "metadata": {},
     "output_type": "execute_result"
    }
   ],
   "source": [
    "(0.8849557522123894)*(3.4 / 2.5) # Plugin our Indirect exchange rate and given prices of Big Macs into our ReR equation"
   ]
  },
  {
   "cell_type": "markdown",
   "metadata": {},
   "source": [
    "1.2035398230088494 is the Real Exchange Rate in the U.S.A."
   ]
  },
  {
   "cell_type": "markdown",
   "metadata": {},
   "source": [
    "1.B."
   ]
  },
  {
   "cell_type": "code",
   "execution_count": 3,
   "metadata": {},
   "outputs": [
    {
     "data": {
      "text/plain": [
       "15094339.62264151"
      ]
     },
     "execution_count": 3,
     "metadata": {},
     "output_type": "execute_result"
    }
   ],
   "source": [
    "def f(FV):                # First find the Present Value of the Bond in terms of Euros using the PV of a bond equation\n",
    "    i = .06               # Use the given interest rate of Eurobonds\n",
    "    return FV / (1 + i)\n",
    "f(16000000)               # Use the given initial investment of Euros"
   ]
  },
  {
   "cell_type": "code",
   "execution_count": 4,
   "metadata": {},
   "outputs": [
    {
     "data": {
      "text/plain": [
       "20528301.88679245"
      ]
     },
     "execution_count": 4,
     "metadata": {},
     "output_type": "execute_result"
    }
   ],
   "source": [
    "def f(Pf):                    # Now use the ReR equation to find the Price in dollars of the Present Value of the Bond\n",
    "    E = 0.8849557522123894    # Use the Indirect Exchange Rate calculated above\n",
    "    e = 1.2035398230088494    # Use the Real Exchange Rate calculated above\n",
    "    return Pf * (e / E)\n",
    "f(15094339.62264151)          # Plugin the Price in euros of the Present Value of the Bond calculated above"
   ]
  },
  {
   "cell_type": "markdown",
   "metadata": {},
   "source": [
    "$20528301.88679245 is the amount of U.S. dollars Chrysler needs today in order to convert U.S. dollars to Euros and invest in Eurobonds."
   ]
  },
  {
   "cell_type": "markdown",
   "metadata": {},
   "source": [
    "1.C."
   ]
  },
  {
   "cell_type": "code",
   "execution_count": 5,
   "metadata": {},
   "outputs": [
    {
     "data": {
      "text/plain": [
       "19200000.0"
      ]
     },
     "execution_count": 5,
     "metadata": {},
     "output_type": "execute_result"
    }
   ],
   "source": [
    "16000000 * 1.2           # First convert the Euros to USD"
   ]
  },
  {
   "cell_type": "code",
   "execution_count": 6,
   "metadata": {},
   "outputs": [
    {
     "data": {
      "text/plain": [
       "20736000.0"
      ]
     },
     "execution_count": 6,
     "metadata": {},
     "output_type": "execute_result"
    }
   ],
   "source": [
    "def f(PV):              # Now Calculate the Price of the Forward Contract\n",
    "    i = .08             # Use the interest rate on T-Bills in the US since we are using USD\n",
    "    return PV * (1 + i)\n",
    "f(19200000.0)           # Plugin the converted amount of Euros to USD we calculated above"
   ]
  },
  {
   "cell_type": "markdown",
   "metadata": {},
   "source": [
    "$20736000.0 is the amount of USD needed today in order to enter into the forward contract."
   ]
  },
  {
   "cell_type": "markdown",
   "metadata": {},
   "source": [
    "1.D."
   ]
  },
  {
   "cell_type": "code",
   "execution_count": 7,
   "metadata": {},
   "outputs": [
    {
     "data": {
      "text/plain": [
       "0.8333333333333334"
      ]
     },
     "execution_count": 7,
     "metadata": {},
     "output_type": "execute_result"
    }
   ],
   "source": [
    "1 / 1.2      # In order to find the forward rate for 1 dollar, we should just simply flip the rate from USD/EURO to EURO/USD"
   ]
  },
  {
   "cell_type": "markdown",
   "metadata": {},
   "source": [
    "0.8333333333333334 is the forward rate for $1 in terms of Euros in order to make investments equivalent."
   ]
  },
  {
   "cell_type": "markdown",
   "metadata": {},
   "source": [
    "## Question 2"
   ]
  },
  {
   "cell_type": "markdown",
   "metadata": {},
   "source": [
    "2.A."
   ]
  },
  {
   "cell_type": "code",
   "execution_count": 8,
   "metadata": {},
   "outputs": [],
   "source": [
    "import numpy as np\n",
    "import matplotlib.pyplot as plt"
   ]
  },
  {
   "cell_type": "code",
   "execution_count": 9,
   "metadata": {},
   "outputs": [],
   "source": [
    "r = .06                               # define the interest rate as 'r'\n",
    "Prices = np.linspace(60,140,100)"
   ]
  },
  {
   "cell_type": "code",
   "execution_count": 10,
   "metadata": {},
   "outputs": [],
   "source": [
    "def LC(C,S,K,r,t):                    # define Long Call Payoff as LC\n",
    "    return max(S-K,0)\n",
    "def LCP(C,S,K,r,t):                   # define Long Call Profit as LCP\n",
    "    return max(S-K,0) - C*np.exp(r*t)"
   ]
  },
  {
   "cell_type": "code",
   "execution_count": 11,
   "metadata": {},
   "outputs": [],
   "source": [
    "Payoffs = [LC(5,S,100,0.06,0.25) for S in Prices]   # Plugin our values for Strike Price, Option Price, Exercise date, and r\n",
    "Profits = [LCP(5,S,100,0.06,0.25) for S in Prices]  # do the same as we did above for Payoffs"
   ]
  },
  {
   "cell_type": "code",
   "execution_count": 12,
   "metadata": {},
   "outputs": [
    {
     "data": {
      "text/plain": [
       "<matplotlib.legend.Legend at 0x2743594be80>"
      ]
     },
     "execution_count": 12,
     "metadata": {},
     "output_type": "execute_result"
    },
    {
     "data": {
      "image/png": "[encoded data removed]",
      "text/plain": [
       "<Figure size 432x288 with 1 Axes>"
      ]
     },
     "metadata": {
      "needs_background": "light"
     },
     "output_type": "display_data"
    }
   ],
   "source": [
    "plt.figure()\n",
    "plt.plot(Prices,Payoffs,label = 'Payoffs')\n",
    "plt.plot(Prices,Profits,label = 'Profits')\n",
    "plt.legend()"
   ]
  },
  {
   "cell_type": "markdown",
   "metadata": {},
   "source": [
    "2.B."
   ]
  },
  {
   "cell_type": "code",
   "execution_count": 13,
   "metadata": {},
   "outputs": [],
   "source": [
    "Payoffs = [LC(5,S,100,0.06,0.25) for S in Prices]    # Plugin our values for Strike Price, Option Price, Exercise date, and r\n",
    "Profits = [LCP(5,S,100,0.06,0.25) for S in Prices]   # do the same as we did above for Payoffs\n",
    "Payoffs2 = [LC(4,S,102,0.06,0.25) for S in Prices]   # Plugin our values for Strike Price2, Option Price2, Exercise date, and r\n",
    "Profits2 = [LCP(4,S,102,0.06,0.25) for S in Prices]  # do the same as we did above for Payoffs2"
   ]
  },
  {
   "cell_type": "code",
   "execution_count": 14,
   "metadata": {},
   "outputs": [
    {
     "data": {
      "text/plain": [
       "<matplotlib.legend.Legend at 0x274359e0820>"
      ]
     },
     "execution_count": 14,
     "metadata": {},
     "output_type": "execute_result"
    },
    {
     "data": {
      "image/png": "[encoded data removed]",
      "text/plain": [
       "<Figure size 432x288 with 1 Axes>"
      ]
     },
     "metadata": {
      "needs_background": "light"
     },
     "output_type": "display_data"
    }
   ],
   "source": [
    "plt.figure()\n",
    "plt.plot(Prices,Payoffs,label = '$5 Payoffs')   # $5 Payoffs Represents the Payoffs for the $5 option\n",
    "plt.plot(Prices,Profits,label = '$5 Profits')   # $5 Profits represents the Profits for the $5 option\n",
    "plt.plot(Prices,Payoffs2,label = '$4 Payoffs')  # $4 Payoffs represents the Payoffs for the $4 option\n",
    "plt.plot(Prices,Profits2,label = '$4 Profits')  # $4 Profits represents the Profits for the $4 option\n",
    "plt.legend()"
   ]
  },
  {
   "cell_type": "markdown",
   "metadata": {},
   "source": [
    "## Question 3"
   ]
  },
  {
   "cell_type": "markdown",
   "metadata": {},
   "source": [
    "OCTOBER"
   ]
  },
  {
   "cell_type": "code",
   "execution_count": 15,
   "metadata": {},
   "outputs": [
    {
     "data": {
      "text/plain": [
       "0.04150000000000009"
      ]
     },
     "execution_count": 15,
     "metadata": {},
     "output_type": "execute_result"
    }
   ],
   "source": [
    "def f(F):                              # Here, we are using the equation for net convienence yield\n",
    "    r = 0.0415                         # this is the risk free rate in October\n",
    "    S = 117.5                          # this is the spot price, or the October Price\n",
    "    T = 0.083333333333                 # this is equal to 1/12, since T is one month out of twelve months\n",
    "    return 1 + r - (F / S)**(1 / T)\n",
    "f(117.5)"
   ]
  },
  {
   "cell_type": "markdown",
   "metadata": {},
   "source": [
    "0.04150000000000009 is the net convenience yield for October which is the same as the Risk Free Rate of October. This is a result of the Future Price and the Spot Price being the same value. This is the only month that this phenomena occurs."
   ]
  },
  {
   "cell_type": "markdown",
   "metadata": {},
   "source": [
    "DECEMBER"
   ]
  },
  {
   "cell_type": "code",
   "execution_count": 16,
   "metadata": {},
   "outputs": [
    {
     "data": {
      "text/plain": [
       "-0.023428822216730705"
      ]
     },
     "execution_count": 16,
     "metadata": {},
     "output_type": "execute_result"
    }
   ],
   "source": [
    "def f(F):                              # Here, we are using the equation for net convienence yield\n",
    "    r = 0.05                           # this is the risk free rate in December\n",
    "    S = 117.5                          # this is the spot price, or the October Price\n",
    "    T = 0.25                           # this is equal to 1/4, since December is 3 months after October, T equals 3/12\n",
    "    return 1 + r - (F / S)**(1 / T)\n",
    "f(119.6)"
   ]
  },
  {
   "cell_type": "markdown",
   "metadata": {},
   "source": [
    "-0.023428822216730705 is the net convenience yield for December."
   ]
  },
  {
   "cell_type": "markdown",
   "metadata": {},
   "source": [
    "JUNE (2019)"
   ]
  },
  {
   "cell_type": "code",
   "execution_count": 17,
   "metadata": {},
   "outputs": [
    {
     "data": {
      "text/plain": [
       "-0.007577643544616652"
      ]
     },
     "execution_count": 17,
     "metadata": {},
     "output_type": "execute_result"
    }
   ],
   "source": [
    "def f(F):                              # Here, we are using the equation for net convienence yield\n",
    "    r = 0.0514                         # this is the risk free rate in June 2019\n",
    "    S = 117.5                          # this is the spot price, or the October Price\n",
    "    T = 0.75                           # this is equal to 3/4, since June 2019 is 9 months after October, T equals 9/12\n",
    "    return 1 + r - (F / S)**(1 / T)\n",
    "f(122.66)"
   ]
  },
  {
   "cell_type": "markdown",
   "metadata": {},
   "source": [
    "-0.007577643544616652 is the net convenience yield for June 2019."
   ]
  },
  {
   "cell_type": "markdown",
   "metadata": {},
   "source": [
    "DECEMBER (2019)"
   ]
  },
  {
   "cell_type": "code",
   "execution_count": 18,
   "metadata": {},
   "outputs": [
    {
     "data": {
      "text/plain": [
       "0.010120803298311998"
      ]
     },
     "execution_count": 18,
     "metadata": {},
     "output_type": "execute_result"
    }
   ],
   "source": [
    "def f(F):                           # Here, we are using the equation for net convienence yield\n",
    "    r = 0.0507                      # this is the risk free rate in December 2019\n",
    "    S = 117.5                       # this is the spot price, or the October Price\n",
    "    T = 1.25                        # this is equal to 5/4, since December 2019 is 15 months after October 2018, T equals 15/12\n",
    "    return 1 + r - (F / S)**(1 / T)\n",
    "f(123.49)"
   ]
  },
  {
   "cell_type": "markdown",
   "metadata": {},
   "source": [
    "0.010120803298311998 is the net convenience yield for December 2019."
   ]
  },
  {
   "cell_type": "markdown",
   "metadata": {},
   "source": [
    "## Question 4"
   ]
  },
  {
   "cell_type": "markdown",
   "metadata": {},
   "source": [
    "First, we must find the probability of the price in the high state and in the low state. We will start with the probability of the price in the high state."
   ]
  },
  {
   "cell_type": "code",
   "execution_count": 19,
   "metadata": {},
   "outputs": [
    {
     "data": {
      "text/plain": [
       "0.5105"
      ]
     },
     "execution_count": 19,
     "metadata": {},
     "output_type": "execute_result"
    }
   ],
   "source": [
    "def f(u):\n",
    "    R = 1.0042                 # R is the monthly continuous compounding rate, R=e^(risk free interest rate x (1/12))\n",
    "    d = 0.8                    # d is (1 - .2), the largest negative percent change that could occur, or (64/80)\n",
    "    return (R - d)/(u - d)\n",
    "f(1.2)                         # plugin 1.2, (1 + .2), the largest positive percent change that could occur, or (96/80)"
   ]
  },
  {
   "cell_type": "markdown",
   "metadata": {},
   "source": [
    "0.5105 is the probability weight for the high state. (1 - 0.5105) = 0.4895 is the probability weight for the low state."
   ]
  },
  {
   "cell_type": "code",
   "execution_count": 20,
   "metadata": {},
   "outputs": [
    {
     "data": {
      "text/plain": [
       "8.133837880900218"
      ]
     },
     "execution_count": 20,
     "metadata": {},
     "output_type": "execute_result"
    }
   ],
   "source": [
    "def f(p):             # Here we are defining and calculating the Price of the Option \n",
    "    R = 1.0042        # We are using the monthly continuous compounding rate from above\n",
    "    h = 0.5105        # h is the probability weight for the high state\n",
    "    l = 0.4895        # l is the probability weight for the low state\n",
    "    z = 0             # z is the payoff recieved when the low state is realized and when this occurs, the payoff is zero\n",
    "    return (1/R)*((h*p)+(l*z))\n",
    "f(16)                 # we use 16 because this is the payoff recieved when you exercise the option in the high state\n",
    "                      # 20% of 80 is 16 so 16 is the highest payoff possible"
   ]
  },
  {
   "cell_type": "markdown",
   "metadata": {},
   "source": [
    "8.133837880900218 is the price of the European call option with strike price of $80 and a risk free interest rate of 5%, considering it could change 20% in a month with equal probabilities of moving up or down in price. Below, we will calculate the price of the option considering the strike price could change only 10%, up or down, in a month."
   ]
  },
  {
   "cell_type": "code",
   "execution_count": 21,
   "metadata": {},
   "outputs": [
    {
     "data": {
      "text/plain": [
       "0.5209999999999996"
      ]
     },
     "execution_count": 21,
     "metadata": {},
     "output_type": "execute_result"
    }
   ],
   "source": [
    "def f(u):\n",
    "    R = 1.0042                 # R is the monthly continuous compounding rate, R=e^(risk free interest rate x (1/12))\n",
    "    d = 0.9                    # d is (1 - .1), the largest negative percent change that could occur in a month, or (72/80)\n",
    "    return (R - d)/(u - d)\n",
    "f(1.1)                         # plugin 1.1, (1 + .1), the largest positive percent change that could occur, or (88/80)"
   ]
  },
  {
   "cell_type": "markdown",
   "metadata": {},
   "source": [
    "0.5209999999999996 is the probability weight for the high state. (1 - 0.5209999999999996) = 0.479"
   ]
  },
  {
   "cell_type": "code",
   "execution_count": 22,
   "metadata": {},
   "outputs": [
    {
     "data": {
      "text/plain": [
       "4.150567616012743"
      ]
     },
     "execution_count": 22,
     "metadata": {},
     "output_type": "execute_result"
    }
   ],
   "source": [
    "def f(p):                         # Here we are defining and calculating the Price of the Option \n",
    "    R = 1.0042                    # We are using the monthly continuous compounding rate from above\n",
    "    h = 0.5209999999999996        # h is the probability weight for the high state\n",
    "    l = 0.479                     # l is the probability weight for the low state\n",
    "    z = 0             # z is the payoff recieved when the low state is realized and when this occurs, the payoff is zero\n",
    "    return (1/R)*((h*p)+(l*z))\n",
    "f(8)                  # we use 8 because this is the payoff recieved when you exercise the option in the high state\n",
    "                      # 10% of 80 is 8 so 8 is the highest payoff possible"
   ]
  },
  {
   "cell_type": "markdown",
   "metadata": {},
   "source": [
    "4.150567616012743 is the price of the call option with strike price of $80 and a risk free interest rate of 5%, considering it could change 10% in a month with equal probabilities of moving up or down in price. Below, we will calculate what will happen to the price of the option if the probability of decrease in price is only 1/3 instead of 1/2."
   ]
  },
  {
   "cell_type": "code",
   "execution_count": 23,
   "metadata": {},
   "outputs": [
    {
     "data": {
      "text/plain": [
       "5.311027020115515"
      ]
     },
     "execution_count": 23,
     "metadata": {},
     "output_type": "execute_result"
    }
   ],
   "source": [
    "def f(p):                         # Here we are defining and calculating the Price of the Option \n",
    "    R = 1.0042                    # We are using the monthly continuous compounding rate from above\n",
    "    h = 0.6666666667              # h is the probability weight for the high state, (1 - 0.3333333) or 1 - (2/3)\n",
    "    l = 0.333333333               # l is the probability weight for the low state, now (1/3)\n",
    "    z = 0             # z is the payoff recieved when the low state is realized and when this occurs, the payoff is zero\n",
    "    return (1/R)*((h*p)+(l*z))\n",
    "f(8)                  # we use 8 because this is the payoff recieved when you exercise the option in the high state\n",
    "                      # 10% of 80 is 8 so 8 is the highest payoff possible"
   ]
  },
  {
   "cell_type": "markdown",
   "metadata": {},
   "source": [
    "5.311027020115515 is the price of the call option with strike price of $80 and a risk free interest rate of 5%, considering it could change 10% in a month with the probability of a decrease in price being 1/3, instead of 1/2."
   ]
  },
  {
   "cell_type": "markdown",
   "metadata": {},
   "source": [
    "## Question 5"
   ]
  },
  {
   "cell_type": "markdown",
   "metadata": {},
   "source": [
    "5.A."
   ]
  },
  {
   "cell_type": "code",
   "execution_count": 24,
   "metadata": {},
   "outputs": [],
   "source": [
    "import quandl\n",
    "import pandas as pd"
   ]
  },
  {
   "cell_type": "code",
   "execution_count": 25,
   "metadata": {},
   "outputs": [],
   "source": [
    "quandl.ApiConfig.api_key = 'D5i-4tXuY_pirr16VyNR'"
   ]
  },
  {
   "cell_type": "code",
   "execution_count": 26,
   "metadata": {},
   "outputs": [],
   "source": [
    "FFR = pd.DataFrame(quandl.get(\"FRED/DFF\", start_date = \"2007-01-01\", end_date = \"2020-09-01\"))\n",
    "PCR = pd.DataFrame(quandl.get(\"FRED/DPCREDIT\", start_date = \"2007-01-01\", end_date = \"2020-09-01\"))\n",
    "UR = pd.DataFrame(quandl.get(\"FRED/UNRATE\", start_date = \"2007-01-01\", end_date = \"2020-09-01\"))\n",
    "CPI = pd.DataFrame(quandl.get(\"FRED/CPIAUCSL\", start_date = \"2007-01-01\", end_date = \"2020-09-01\"))"
   ]
  },
  {
   "cell_type": "code",
   "execution_count": 27,
   "metadata": {},
   "outputs": [],
   "source": [
    "import matplotlib.pyplot as plt\n",
    "import datetime"
   ]
  },
  {
   "cell_type": "code",
   "execution_count": 28,
   "metadata": {},
   "outputs": [
    {
     "data": {
      "text/plain": [
       "Text(0.5, 1.0, 'Question 5 Plot')"
      ]
     },
     "execution_count": 28,
     "metadata": {},
     "output_type": "execute_result"
    },
    {
     "data": {
      "image/png": "[encoded data removed]",
      "text/plain": [
       "<Figure size 432x288 with 1 Axes>"
      ]
     },
     "metadata": {
      "needs_background": "light"
     },
     "output_type": "display_data"
    }
   ],
   "source": [
    "plt.figure()\n",
    "plt.plot(FFR, label='Fed Funds Rate')\n",
    "plt.plot(PCR, label='Primary Credit Rate')\n",
    "plt.plot(UR, label='Unemployment Rate')\n",
    "plt.plot(CPI, label='Consumer Price Index')\n",
    "plt.xlabel('Date')\n",
    "plt.ylabel('Percent or Index')\n",
    "plt.xlim(datetime.date(2007,1,1),datetime.date(2020,9,1))\n",
    "plt.legend()\n",
    "plt.title(\"Question 5 Plot\")"
   ]
  },
  {
   "cell_type": "code",
   "execution_count": 29,
   "metadata": {},
   "outputs": [
    {
     "data": {
      "text/html": [
       "<div>\n",
       "<style scoped>\n",
       "    .dataframe tbody tr th:only-of-type {\n",
       "        vertical-align: middle;\n",
       "    }\n",
       "\n",
       "    .dataframe tbody tr th {\n",
       "        vertical-align: top;\n",
       "    }\n",
       "\n",
       "    .dataframe thead th {\n",
       "        text-align: right;\n",
       "    }\n",
       "</style>\n",
       "<table border=\"1\" class=\"dataframe\">\n",
       "  <thead>\n",
       "    <tr style=\"text-align: right;\">\n",
       "      <th></th>\n",
       "      <th>Value</th>\n",
       "    </tr>\n",
       "    <tr>\n",
       "      <th>Date</th>\n",
       "      <th></th>\n",
       "    </tr>\n",
       "  </thead>\n",
       "  <tbody>\n",
       "    <tr>\n",
       "      <th>2007-03-31</th>\n",
       "      <td>5.30</td>\n",
       "    </tr>\n",
       "    <tr>\n",
       "      <th>2007-06-30</th>\n",
       "      <td>5.31</td>\n",
       "    </tr>\n",
       "    <tr>\n",
       "      <th>2007-09-30</th>\n",
       "      <td>4.58</td>\n",
       "    </tr>\n",
       "    <tr>\n",
       "      <th>2007-12-31</th>\n",
       "      <td>3.06</td>\n",
       "    </tr>\n",
       "    <tr>\n",
       "      <th>2008-03-31</th>\n",
       "      <td>2.51</td>\n",
       "    </tr>\n",
       "    <tr>\n",
       "      <th>2008-06-30</th>\n",
       "      <td>2.47</td>\n",
       "    </tr>\n",
       "    <tr>\n",
       "      <th>2008-09-30</th>\n",
       "      <td>2.03</td>\n",
       "    </tr>\n",
       "    <tr>\n",
       "      <th>2008-12-31</th>\n",
       "      <td>0.14</td>\n",
       "    </tr>\n",
       "    <tr>\n",
       "      <th>2009-03-31</th>\n",
       "      <td>0.16</td>\n",
       "    </tr>\n",
       "    <tr>\n",
       "      <th>2009-06-30</th>\n",
       "      <td>0.22</td>\n",
       "    </tr>\n",
       "    <tr>\n",
       "      <th>2009-09-30</th>\n",
       "      <td>0.07</td>\n",
       "    </tr>\n",
       "    <tr>\n",
       "      <th>2009-12-31</th>\n",
       "      <td>0.05</td>\n",
       "    </tr>\n",
       "    <tr>\n",
       "      <th>2010-03-31</th>\n",
       "      <td>0.09</td>\n",
       "    </tr>\n",
       "    <tr>\n",
       "      <th>2010-06-30</th>\n",
       "      <td>0.09</td>\n",
       "    </tr>\n",
       "    <tr>\n",
       "      <th>2010-09-30</th>\n",
       "      <td>0.15</td>\n",
       "    </tr>\n",
       "    <tr>\n",
       "      <th>2010-12-31</th>\n",
       "      <td>0.13</td>\n",
       "    </tr>\n",
       "    <tr>\n",
       "      <th>2011-03-31</th>\n",
       "      <td>0.10</td>\n",
       "    </tr>\n",
       "    <tr>\n",
       "      <th>2011-06-30</th>\n",
       "      <td>0.07</td>\n",
       "    </tr>\n",
       "    <tr>\n",
       "      <th>2011-09-30</th>\n",
       "      <td>0.06</td>\n",
       "    </tr>\n",
       "    <tr>\n",
       "      <th>2011-12-31</th>\n",
       "      <td>0.04</td>\n",
       "    </tr>\n",
       "    <tr>\n",
       "      <th>2012-03-31</th>\n",
       "      <td>0.09</td>\n",
       "    </tr>\n",
       "    <tr>\n",
       "      <th>2012-06-30</th>\n",
       "      <td>0.09</td>\n",
       "    </tr>\n",
       "    <tr>\n",
       "      <th>2012-09-30</th>\n",
       "      <td>0.09</td>\n",
       "    </tr>\n",
       "    <tr>\n",
       "      <th>2012-12-31</th>\n",
       "      <td>0.09</td>\n",
       "    </tr>\n",
       "    <tr>\n",
       "      <th>2013-03-31</th>\n",
       "      <td>0.09</td>\n",
       "    </tr>\n",
       "    <tr>\n",
       "      <th>2013-06-30</th>\n",
       "      <td>0.07</td>\n",
       "    </tr>\n",
       "    <tr>\n",
       "      <th>2013-09-30</th>\n",
       "      <td>0.06</td>\n",
       "    </tr>\n",
       "    <tr>\n",
       "      <th>2013-12-31</th>\n",
       "      <td>0.07</td>\n",
       "    </tr>\n",
       "    <tr>\n",
       "      <th>2014-03-31</th>\n",
       "      <td>0.06</td>\n",
       "    </tr>\n",
       "    <tr>\n",
       "      <th>2014-06-30</th>\n",
       "      <td>0.09</td>\n",
       "    </tr>\n",
       "    <tr>\n",
       "      <th>2014-09-30</th>\n",
       "      <td>0.07</td>\n",
       "    </tr>\n",
       "    <tr>\n",
       "      <th>2014-12-31</th>\n",
       "      <td>0.06</td>\n",
       "    </tr>\n",
       "    <tr>\n",
       "      <th>2015-03-31</th>\n",
       "      <td>0.06</td>\n",
       "    </tr>\n",
       "    <tr>\n",
       "      <th>2015-06-30</th>\n",
       "      <td>0.08</td>\n",
       "    </tr>\n",
       "    <tr>\n",
       "      <th>2015-09-30</th>\n",
       "      <td>0.07</td>\n",
       "    </tr>\n",
       "    <tr>\n",
       "      <th>2015-12-31</th>\n",
       "      <td>0.20</td>\n",
       "    </tr>\n",
       "    <tr>\n",
       "      <th>2016-03-31</th>\n",
       "      <td>0.25</td>\n",
       "    </tr>\n",
       "    <tr>\n",
       "      <th>2016-06-30</th>\n",
       "      <td>0.30</td>\n",
       "    </tr>\n",
       "    <tr>\n",
       "      <th>2016-09-30</th>\n",
       "      <td>0.29</td>\n",
       "    </tr>\n",
       "    <tr>\n",
       "      <th>2016-12-31</th>\n",
       "      <td>0.55</td>\n",
       "    </tr>\n",
       "    <tr>\n",
       "      <th>2017-03-31</th>\n",
       "      <td>0.82</td>\n",
       "    </tr>\n",
       "    <tr>\n",
       "      <th>2017-06-30</th>\n",
       "      <td>1.06</td>\n",
       "    </tr>\n",
       "    <tr>\n",
       "      <th>2017-09-30</th>\n",
       "      <td>1.06</td>\n",
       "    </tr>\n",
       "    <tr>\n",
       "      <th>2017-12-31</th>\n",
       "      <td>1.33</td>\n",
       "    </tr>\n",
       "    <tr>\n",
       "      <th>2018-03-31</th>\n",
       "      <td>1.67</td>\n",
       "    </tr>\n",
       "    <tr>\n",
       "      <th>2018-06-30</th>\n",
       "      <td>1.91</td>\n",
       "    </tr>\n",
       "    <tr>\n",
       "      <th>2018-09-30</th>\n",
       "      <td>2.18</td>\n",
       "    </tr>\n",
       "    <tr>\n",
       "      <th>2018-12-31</th>\n",
       "      <td>2.40</td>\n",
       "    </tr>\n",
       "    <tr>\n",
       "      <th>2019-03-31</th>\n",
       "      <td>2.43</td>\n",
       "    </tr>\n",
       "    <tr>\n",
       "      <th>2019-06-30</th>\n",
       "      <td>2.40</td>\n",
       "    </tr>\n",
       "    <tr>\n",
       "      <th>2019-09-30</th>\n",
       "      <td>1.90</td>\n",
       "    </tr>\n",
       "    <tr>\n",
       "      <th>2019-12-31</th>\n",
       "      <td>1.55</td>\n",
       "    </tr>\n",
       "    <tr>\n",
       "      <th>2020-03-31</th>\n",
       "      <td>0.08</td>\n",
       "    </tr>\n",
       "    <tr>\n",
       "      <th>2020-06-30</th>\n",
       "      <td>0.08</td>\n",
       "    </tr>\n",
       "    <tr>\n",
       "      <th>2020-09-30</th>\n",
       "      <td>0.09</td>\n",
       "    </tr>\n",
       "  </tbody>\n",
       "</table>\n",
       "</div>"
      ],
      "text/plain": [
       "            Value\n",
       "Date             \n",
       "2007-03-31   5.30\n",
       "2007-06-30   5.31\n",
       "2007-09-30   4.58\n",
       "2007-12-31   3.06\n",
       "2008-03-31   2.51\n",
       "2008-06-30   2.47\n",
       "2008-09-30   2.03\n",
       "2008-12-31   0.14\n",
       "2009-03-31   0.16\n",
       "2009-06-30   0.22\n",
       "2009-09-30   0.07\n",
       "2009-12-31   0.05\n",
       "2010-03-31   0.09\n",
       "2010-06-30   0.09\n",
       "2010-09-30   0.15\n",
       "2010-12-31   0.13\n",
       "2011-03-31   0.10\n",
       "2011-06-30   0.07\n",
       "2011-09-30   0.06\n",
       "2011-12-31   0.04\n",
       "2012-03-31   0.09\n",
       "2012-06-30   0.09\n",
       "2012-09-30   0.09\n",
       "2012-12-31   0.09\n",
       "2013-03-31   0.09\n",
       "2013-06-30   0.07\n",
       "2013-09-30   0.06\n",
       "2013-12-31   0.07\n",
       "2014-03-31   0.06\n",
       "2014-06-30   0.09\n",
       "2014-09-30   0.07\n",
       "2014-12-31   0.06\n",
       "2015-03-31   0.06\n",
       "2015-06-30   0.08\n",
       "2015-09-30   0.07\n",
       "2015-12-31   0.20\n",
       "2016-03-31   0.25\n",
       "2016-06-30   0.30\n",
       "2016-09-30   0.29\n",
       "2016-12-31   0.55\n",
       "2017-03-31   0.82\n",
       "2017-06-30   1.06\n",
       "2017-09-30   1.06\n",
       "2017-12-31   1.33\n",
       "2018-03-31   1.67\n",
       "2018-06-30   1.91\n",
       "2018-09-30   2.18\n",
       "2018-12-31   2.40\n",
       "2019-03-31   2.43\n",
       "2019-06-30   2.40\n",
       "2019-09-30   1.90\n",
       "2019-12-31   1.55\n",
       "2020-03-31   0.08\n",
       "2020-06-30   0.08\n",
       "2020-09-30   0.09"
      ]
     },
     "execution_count": 29,
     "metadata": {},
     "output_type": "execute_result"
    }
   ],
   "source": [
    "FFR.resample('Q').last()"
   ]
  },
  {
   "cell_type": "code",
   "execution_count": 30,
   "metadata": {},
   "outputs": [
    {
     "data": {
      "text/html": [
       "<div>\n",
       "<style scoped>\n",
       "    .dataframe tbody tr th:only-of-type {\n",
       "        vertical-align: middle;\n",
       "    }\n",
       "\n",
       "    .dataframe tbody tr th {\n",
       "        vertical-align: top;\n",
       "    }\n",
       "\n",
       "    .dataframe thead th {\n",
       "        text-align: right;\n",
       "    }\n",
       "</style>\n",
       "<table border=\"1\" class=\"dataframe\">\n",
       "  <thead>\n",
       "    <tr style=\"text-align: right;\">\n",
       "      <th></th>\n",
       "      <th>Value</th>\n",
       "    </tr>\n",
       "    <tr>\n",
       "      <th>Date</th>\n",
       "      <th></th>\n",
       "    </tr>\n",
       "  </thead>\n",
       "  <tbody>\n",
       "    <tr>\n",
       "      <th>2007-03-31</th>\n",
       "      <td>6.25</td>\n",
       "    </tr>\n",
       "    <tr>\n",
       "      <th>2007-06-30</th>\n",
       "      <td>6.25</td>\n",
       "    </tr>\n",
       "    <tr>\n",
       "      <th>2007-09-30</th>\n",
       "      <td>5.25</td>\n",
       "    </tr>\n",
       "    <tr>\n",
       "      <th>2007-12-31</th>\n",
       "      <td>4.75</td>\n",
       "    </tr>\n",
       "    <tr>\n",
       "      <th>2008-03-31</th>\n",
       "      <td>2.50</td>\n",
       "    </tr>\n",
       "    <tr>\n",
       "      <th>2008-06-30</th>\n",
       "      <td>2.25</td>\n",
       "    </tr>\n",
       "    <tr>\n",
       "      <th>2008-09-30</th>\n",
       "      <td>2.25</td>\n",
       "    </tr>\n",
       "    <tr>\n",
       "      <th>2008-12-31</th>\n",
       "      <td>0.50</td>\n",
       "    </tr>\n",
       "    <tr>\n",
       "      <th>2009-03-31</th>\n",
       "      <td>0.50</td>\n",
       "    </tr>\n",
       "    <tr>\n",
       "      <th>2009-06-30</th>\n",
       "      <td>0.50</td>\n",
       "    </tr>\n",
       "    <tr>\n",
       "      <th>2009-09-30</th>\n",
       "      <td>0.50</td>\n",
       "    </tr>\n",
       "    <tr>\n",
       "      <th>2009-12-31</th>\n",
       "      <td>0.50</td>\n",
       "    </tr>\n",
       "    <tr>\n",
       "      <th>2010-03-31</th>\n",
       "      <td>0.75</td>\n",
       "    </tr>\n",
       "    <tr>\n",
       "      <th>2010-06-30</th>\n",
       "      <td>0.75</td>\n",
       "    </tr>\n",
       "    <tr>\n",
       "      <th>2010-09-30</th>\n",
       "      <td>0.75</td>\n",
       "    </tr>\n",
       "    <tr>\n",
       "      <th>2010-12-31</th>\n",
       "      <td>0.75</td>\n",
       "    </tr>\n",
       "    <tr>\n",
       "      <th>2011-03-31</th>\n",
       "      <td>0.75</td>\n",
       "    </tr>\n",
       "    <tr>\n",
       "      <th>2011-06-30</th>\n",
       "      <td>0.75</td>\n",
       "    </tr>\n",
       "    <tr>\n",
       "      <th>2011-09-30</th>\n",
       "      <td>0.75</td>\n",
       "    </tr>\n",
       "    <tr>\n",
       "      <th>2011-12-31</th>\n",
       "      <td>0.75</td>\n",
       "    </tr>\n",
       "    <tr>\n",
       "      <th>2012-03-31</th>\n",
       "      <td>0.75</td>\n",
       "    </tr>\n",
       "    <tr>\n",
       "      <th>2012-06-30</th>\n",
       "      <td>0.75</td>\n",
       "    </tr>\n",
       "    <tr>\n",
       "      <th>2012-09-30</th>\n",
       "      <td>0.75</td>\n",
       "    </tr>\n",
       "    <tr>\n",
       "      <th>2012-12-31</th>\n",
       "      <td>0.75</td>\n",
       "    </tr>\n",
       "    <tr>\n",
       "      <th>2013-03-31</th>\n",
       "      <td>0.75</td>\n",
       "    </tr>\n",
       "    <tr>\n",
       "      <th>2013-06-30</th>\n",
       "      <td>0.75</td>\n",
       "    </tr>\n",
       "    <tr>\n",
       "      <th>2013-09-30</th>\n",
       "      <td>0.75</td>\n",
       "    </tr>\n",
       "    <tr>\n",
       "      <th>2013-12-31</th>\n",
       "      <td>0.75</td>\n",
       "    </tr>\n",
       "    <tr>\n",
       "      <th>2014-03-31</th>\n",
       "      <td>0.75</td>\n",
       "    </tr>\n",
       "    <tr>\n",
       "      <th>2014-06-30</th>\n",
       "      <td>0.75</td>\n",
       "    </tr>\n",
       "    <tr>\n",
       "      <th>2014-09-30</th>\n",
       "      <td>0.75</td>\n",
       "    </tr>\n",
       "    <tr>\n",
       "      <th>2014-12-31</th>\n",
       "      <td>0.75</td>\n",
       "    </tr>\n",
       "    <tr>\n",
       "      <th>2015-03-31</th>\n",
       "      <td>0.75</td>\n",
       "    </tr>\n",
       "    <tr>\n",
       "      <th>2015-06-30</th>\n",
       "      <td>0.75</td>\n",
       "    </tr>\n",
       "    <tr>\n",
       "      <th>2015-09-30</th>\n",
       "      <td>0.75</td>\n",
       "    </tr>\n",
       "    <tr>\n",
       "      <th>2015-12-31</th>\n",
       "      <td>1.00</td>\n",
       "    </tr>\n",
       "    <tr>\n",
       "      <th>2016-03-31</th>\n",
       "      <td>1.00</td>\n",
       "    </tr>\n",
       "    <tr>\n",
       "      <th>2016-06-30</th>\n",
       "      <td>1.00</td>\n",
       "    </tr>\n",
       "    <tr>\n",
       "      <th>2016-09-30</th>\n",
       "      <td>1.00</td>\n",
       "    </tr>\n",
       "    <tr>\n",
       "      <th>2016-12-31</th>\n",
       "      <td>1.25</td>\n",
       "    </tr>\n",
       "    <tr>\n",
       "      <th>2017-03-31</th>\n",
       "      <td>1.50</td>\n",
       "    </tr>\n",
       "    <tr>\n",
       "      <th>2017-06-30</th>\n",
       "      <td>1.75</td>\n",
       "    </tr>\n",
       "    <tr>\n",
       "      <th>2017-09-30</th>\n",
       "      <td>1.75</td>\n",
       "    </tr>\n",
       "    <tr>\n",
       "      <th>2017-12-31</th>\n",
       "      <td>2.00</td>\n",
       "    </tr>\n",
       "    <tr>\n",
       "      <th>2018-03-31</th>\n",
       "      <td>2.25</td>\n",
       "    </tr>\n",
       "    <tr>\n",
       "      <th>2018-06-30</th>\n",
       "      <td>2.50</td>\n",
       "    </tr>\n",
       "    <tr>\n",
       "      <th>2018-09-30</th>\n",
       "      <td>2.75</td>\n",
       "    </tr>\n",
       "    <tr>\n",
       "      <th>2018-12-31</th>\n",
       "      <td>3.00</td>\n",
       "    </tr>\n",
       "    <tr>\n",
       "      <th>2019-03-31</th>\n",
       "      <td>3.00</td>\n",
       "    </tr>\n",
       "    <tr>\n",
       "      <th>2019-06-30</th>\n",
       "      <td>3.00</td>\n",
       "    </tr>\n",
       "    <tr>\n",
       "      <th>2019-09-30</th>\n",
       "      <td>2.50</td>\n",
       "    </tr>\n",
       "    <tr>\n",
       "      <th>2019-12-31</th>\n",
       "      <td>2.25</td>\n",
       "    </tr>\n",
       "    <tr>\n",
       "      <th>2020-03-31</th>\n",
       "      <td>0.25</td>\n",
       "    </tr>\n",
       "    <tr>\n",
       "      <th>2020-06-30</th>\n",
       "      <td>0.25</td>\n",
       "    </tr>\n",
       "    <tr>\n",
       "      <th>2020-09-30</th>\n",
       "      <td>0.25</td>\n",
       "    </tr>\n",
       "  </tbody>\n",
       "</table>\n",
       "</div>"
      ],
      "text/plain": [
       "            Value\n",
       "Date             \n",
       "2007-03-31   6.25\n",
       "2007-06-30   6.25\n",
       "2007-09-30   5.25\n",
       "2007-12-31   4.75\n",
       "2008-03-31   2.50\n",
       "2008-06-30   2.25\n",
       "2008-09-30   2.25\n",
       "2008-12-31   0.50\n",
       "2009-03-31   0.50\n",
       "2009-06-30   0.50\n",
       "2009-09-30   0.50\n",
       "2009-12-31   0.50\n",
       "2010-03-31   0.75\n",
       "2010-06-30   0.75\n",
       "2010-09-30   0.75\n",
       "2010-12-31   0.75\n",
       "2011-03-31   0.75\n",
       "2011-06-30   0.75\n",
       "2011-09-30   0.75\n",
       "2011-12-31   0.75\n",
       "2012-03-31   0.75\n",
       "2012-06-30   0.75\n",
       "2012-09-30   0.75\n",
       "2012-12-31   0.75\n",
       "2013-03-31   0.75\n",
       "2013-06-30   0.75\n",
       "2013-09-30   0.75\n",
       "2013-12-31   0.75\n",
       "2014-03-31   0.75\n",
       "2014-06-30   0.75\n",
       "2014-09-30   0.75\n",
       "2014-12-31   0.75\n",
       "2015-03-31   0.75\n",
       "2015-06-30   0.75\n",
       "2015-09-30   0.75\n",
       "2015-12-31   1.00\n",
       "2016-03-31   1.00\n",
       "2016-06-30   1.00\n",
       "2016-09-30   1.00\n",
       "2016-12-31   1.25\n",
       "2017-03-31   1.50\n",
       "2017-06-30   1.75\n",
       "2017-09-30   1.75\n",
       "2017-12-31   2.00\n",
       "2018-03-31   2.25\n",
       "2018-06-30   2.50\n",
       "2018-09-30   2.75\n",
       "2018-12-31   3.00\n",
       "2019-03-31   3.00\n",
       "2019-06-30   3.00\n",
       "2019-09-30   2.50\n",
       "2019-12-31   2.25\n",
       "2020-03-31   0.25\n",
       "2020-06-30   0.25\n",
       "2020-09-30   0.25"
      ]
     },
     "execution_count": 30,
     "metadata": {},
     "output_type": "execute_result"
    }
   ],
   "source": [
    "PCR.resample('Q').last()"
   ]
  },
  {
   "cell_type": "code",
   "execution_count": 31,
   "metadata": {},
   "outputs": [
    {
     "data": {
      "text/html": [
       "<div>\n",
       "<style scoped>\n",
       "    .dataframe tbody tr th:only-of-type {\n",
       "        vertical-align: middle;\n",
       "    }\n",
       "\n",
       "    .dataframe tbody tr th {\n",
       "        vertical-align: top;\n",
       "    }\n",
       "\n",
       "    .dataframe thead th {\n",
       "        text-align: right;\n",
       "    }\n",
       "</style>\n",
       "<table border=\"1\" class=\"dataframe\">\n",
       "  <thead>\n",
       "    <tr style=\"text-align: right;\">\n",
       "      <th></th>\n",
       "      <th>Value</th>\n",
       "    </tr>\n",
       "    <tr>\n",
       "      <th>Date</th>\n",
       "      <th></th>\n",
       "    </tr>\n",
       "  </thead>\n",
       "  <tbody>\n",
       "    <tr>\n",
       "      <th>2007-03-31</th>\n",
       "      <td>4.4</td>\n",
       "    </tr>\n",
       "    <tr>\n",
       "      <th>2007-06-30</th>\n",
       "      <td>4.6</td>\n",
       "    </tr>\n",
       "    <tr>\n",
       "      <th>2007-09-30</th>\n",
       "      <td>4.7</td>\n",
       "    </tr>\n",
       "    <tr>\n",
       "      <th>2007-12-31</th>\n",
       "      <td>5.0</td>\n",
       "    </tr>\n",
       "    <tr>\n",
       "      <th>2008-03-31</th>\n",
       "      <td>5.1</td>\n",
       "    </tr>\n",
       "    <tr>\n",
       "      <th>2008-06-30</th>\n",
       "      <td>5.6</td>\n",
       "    </tr>\n",
       "    <tr>\n",
       "      <th>2008-09-30</th>\n",
       "      <td>6.1</td>\n",
       "    </tr>\n",
       "    <tr>\n",
       "      <th>2008-12-31</th>\n",
       "      <td>7.3</td>\n",
       "    </tr>\n",
       "    <tr>\n",
       "      <th>2009-03-31</th>\n",
       "      <td>8.7</td>\n",
       "    </tr>\n",
       "    <tr>\n",
       "      <th>2009-06-30</th>\n",
       "      <td>9.5</td>\n",
       "    </tr>\n",
       "    <tr>\n",
       "      <th>2009-09-30</th>\n",
       "      <td>9.8</td>\n",
       "    </tr>\n",
       "    <tr>\n",
       "      <th>2009-12-31</th>\n",
       "      <td>9.9</td>\n",
       "    </tr>\n",
       "    <tr>\n",
       "      <th>2010-03-31</th>\n",
       "      <td>9.9</td>\n",
       "    </tr>\n",
       "    <tr>\n",
       "      <th>2010-06-30</th>\n",
       "      <td>9.4</td>\n",
       "    </tr>\n",
       "    <tr>\n",
       "      <th>2010-09-30</th>\n",
       "      <td>9.5</td>\n",
       "    </tr>\n",
       "    <tr>\n",
       "      <th>2010-12-31</th>\n",
       "      <td>9.3</td>\n",
       "    </tr>\n",
       "    <tr>\n",
       "      <th>2011-03-31</th>\n",
       "      <td>9.0</td>\n",
       "    </tr>\n",
       "    <tr>\n",
       "      <th>2011-06-30</th>\n",
       "      <td>9.1</td>\n",
       "    </tr>\n",
       "    <tr>\n",
       "      <th>2011-09-30</th>\n",
       "      <td>9.0</td>\n",
       "    </tr>\n",
       "    <tr>\n",
       "      <th>2011-12-31</th>\n",
       "      <td>8.5</td>\n",
       "    </tr>\n",
       "    <tr>\n",
       "      <th>2012-03-31</th>\n",
       "      <td>8.2</td>\n",
       "    </tr>\n",
       "    <tr>\n",
       "      <th>2012-06-30</th>\n",
       "      <td>8.2</td>\n",
       "    </tr>\n",
       "    <tr>\n",
       "      <th>2012-09-30</th>\n",
       "      <td>7.8</td>\n",
       "    </tr>\n",
       "    <tr>\n",
       "      <th>2012-12-31</th>\n",
       "      <td>7.9</td>\n",
       "    </tr>\n",
       "    <tr>\n",
       "      <th>2013-03-31</th>\n",
       "      <td>7.5</td>\n",
       "    </tr>\n",
       "    <tr>\n",
       "      <th>2013-06-30</th>\n",
       "      <td>7.5</td>\n",
       "    </tr>\n",
       "    <tr>\n",
       "      <th>2013-09-30</th>\n",
       "      <td>7.2</td>\n",
       "    </tr>\n",
       "    <tr>\n",
       "      <th>2013-12-31</th>\n",
       "      <td>6.7</td>\n",
       "    </tr>\n",
       "    <tr>\n",
       "      <th>2014-03-31</th>\n",
       "      <td>6.7</td>\n",
       "    </tr>\n",
       "    <tr>\n",
       "      <th>2014-06-30</th>\n",
       "      <td>6.1</td>\n",
       "    </tr>\n",
       "    <tr>\n",
       "      <th>2014-09-30</th>\n",
       "      <td>5.9</td>\n",
       "    </tr>\n",
       "    <tr>\n",
       "      <th>2014-12-31</th>\n",
       "      <td>5.6</td>\n",
       "    </tr>\n",
       "    <tr>\n",
       "      <th>2015-03-31</th>\n",
       "      <td>5.4</td>\n",
       "    </tr>\n",
       "    <tr>\n",
       "      <th>2015-06-30</th>\n",
       "      <td>5.3</td>\n",
       "    </tr>\n",
       "    <tr>\n",
       "      <th>2015-09-30</th>\n",
       "      <td>5.0</td>\n",
       "    </tr>\n",
       "    <tr>\n",
       "      <th>2015-12-31</th>\n",
       "      <td>5.0</td>\n",
       "    </tr>\n",
       "    <tr>\n",
       "      <th>2016-03-31</th>\n",
       "      <td>5.0</td>\n",
       "    </tr>\n",
       "    <tr>\n",
       "      <th>2016-06-30</th>\n",
       "      <td>4.9</td>\n",
       "    </tr>\n",
       "    <tr>\n",
       "      <th>2016-09-30</th>\n",
       "      <td>5.0</td>\n",
       "    </tr>\n",
       "    <tr>\n",
       "      <th>2016-12-31</th>\n",
       "      <td>4.7</td>\n",
       "    </tr>\n",
       "    <tr>\n",
       "      <th>2017-03-31</th>\n",
       "      <td>4.4</td>\n",
       "    </tr>\n",
       "    <tr>\n",
       "      <th>2017-06-30</th>\n",
       "      <td>4.3</td>\n",
       "    </tr>\n",
       "    <tr>\n",
       "      <th>2017-09-30</th>\n",
       "      <td>4.2</td>\n",
       "    </tr>\n",
       "    <tr>\n",
       "      <th>2017-12-31</th>\n",
       "      <td>4.1</td>\n",
       "    </tr>\n",
       "    <tr>\n",
       "      <th>2018-03-31</th>\n",
       "      <td>4.0</td>\n",
       "    </tr>\n",
       "    <tr>\n",
       "      <th>2018-06-30</th>\n",
       "      <td>4.0</td>\n",
       "    </tr>\n",
       "    <tr>\n",
       "      <th>2018-09-30</th>\n",
       "      <td>3.7</td>\n",
       "    </tr>\n",
       "    <tr>\n",
       "      <th>2018-12-31</th>\n",
       "      <td>3.9</td>\n",
       "    </tr>\n",
       "    <tr>\n",
       "      <th>2019-03-31</th>\n",
       "      <td>3.8</td>\n",
       "    </tr>\n",
       "    <tr>\n",
       "      <th>2019-06-30</th>\n",
       "      <td>3.7</td>\n",
       "    </tr>\n",
       "    <tr>\n",
       "      <th>2019-09-30</th>\n",
       "      <td>3.5</td>\n",
       "    </tr>\n",
       "    <tr>\n",
       "      <th>2019-12-31</th>\n",
       "      <td>3.5</td>\n",
       "    </tr>\n",
       "    <tr>\n",
       "      <th>2020-03-31</th>\n",
       "      <td>4.4</td>\n",
       "    </tr>\n",
       "    <tr>\n",
       "      <th>2020-06-30</th>\n",
       "      <td>11.1</td>\n",
       "    </tr>\n",
       "    <tr>\n",
       "      <th>2020-09-30</th>\n",
       "      <td>7.9</td>\n",
       "    </tr>\n",
       "  </tbody>\n",
       "</table>\n",
       "</div>"
      ],
      "text/plain": [
       "            Value\n",
       "Date             \n",
       "2007-03-31    4.4\n",
       "2007-06-30    4.6\n",
       "2007-09-30    4.7\n",
       "2007-12-31    5.0\n",
       "2008-03-31    5.1\n",
       "2008-06-30    5.6\n",
       "2008-09-30    6.1\n",
       "2008-12-31    7.3\n",
       "2009-03-31    8.7\n",
       "2009-06-30    9.5\n",
       "2009-09-30    9.8\n",
       "2009-12-31    9.9\n",
       "2010-03-31    9.9\n",
       "2010-06-30    9.4\n",
       "2010-09-30    9.5\n",
       "2010-12-31    9.3\n",
       "2011-03-31    9.0\n",
       "2011-06-30    9.1\n",
       "2011-09-30    9.0\n",
       "2011-12-31    8.5\n",
       "2012-03-31    8.2\n",
       "2012-06-30    8.2\n",
       "2012-09-30    7.8\n",
       "2012-12-31    7.9\n",
       "2013-03-31    7.5\n",
       "2013-06-30    7.5\n",
       "2013-09-30    7.2\n",
       "2013-12-31    6.7\n",
       "2014-03-31    6.7\n",
       "2014-06-30    6.1\n",
       "2014-09-30    5.9\n",
       "2014-12-31    5.6\n",
       "2015-03-31    5.4\n",
       "2015-06-30    5.3\n",
       "2015-09-30    5.0\n",
       "2015-12-31    5.0\n",
       "2016-03-31    5.0\n",
       "2016-06-30    4.9\n",
       "2016-09-30    5.0\n",
       "2016-12-31    4.7\n",
       "2017-03-31    4.4\n",
       "2017-06-30    4.3\n",
       "2017-09-30    4.2\n",
       "2017-12-31    4.1\n",
       "2018-03-31    4.0\n",
       "2018-06-30    4.0\n",
       "2018-09-30    3.7\n",
       "2018-12-31    3.9\n",
       "2019-03-31    3.8\n",
       "2019-06-30    3.7\n",
       "2019-09-30    3.5\n",
       "2019-12-31    3.5\n",
       "2020-03-31    4.4\n",
       "2020-06-30   11.1\n",
       "2020-09-30    7.9"
      ]
     },
     "execution_count": 31,
     "metadata": {},
     "output_type": "execute_result"
    }
   ],
   "source": [
    "UR.resample('Q').last()"
   ]
  },
  {
   "cell_type": "code",
   "execution_count": 32,
   "metadata": {},
   "outputs": [
    {
     "data": {
      "text/html": [
       "<div>\n",
       "<style scoped>\n",
       "    .dataframe tbody tr th:only-of-type {\n",
       "        vertical-align: middle;\n",
       "    }\n",
       "\n",
       "    .dataframe tbody tr th {\n",
       "        vertical-align: top;\n",
       "    }\n",
       "\n",
       "    .dataframe thead th {\n",
       "        text-align: right;\n",
       "    }\n",
       "</style>\n",
       "<table border=\"1\" class=\"dataframe\">\n",
       "  <thead>\n",
       "    <tr style=\"text-align: right;\">\n",
       "      <th></th>\n",
       "      <th>Value</th>\n",
       "    </tr>\n",
       "    <tr>\n",
       "      <th>Date</th>\n",
       "      <th></th>\n",
       "    </tr>\n",
       "  </thead>\n",
       "  <tbody>\n",
       "    <tr>\n",
       "      <th>2007-03-31</th>\n",
       "      <td>205.288</td>\n",
       "    </tr>\n",
       "    <tr>\n",
       "      <th>2007-06-30</th>\n",
       "      <td>207.234</td>\n",
       "    </tr>\n",
       "    <tr>\n",
       "      <th>2007-09-30</th>\n",
       "      <td>208.547</td>\n",
       "    </tr>\n",
       "    <tr>\n",
       "      <th>2007-12-31</th>\n",
       "      <td>211.445</td>\n",
       "    </tr>\n",
       "    <tr>\n",
       "      <th>2008-03-31</th>\n",
       "      <td>213.448</td>\n",
       "    </tr>\n",
       "    <tr>\n",
       "      <th>2008-06-30</th>\n",
       "      <td>217.463</td>\n",
       "    </tr>\n",
       "    <tr>\n",
       "      <th>2008-09-30</th>\n",
       "      <td>218.877</td>\n",
       "    </tr>\n",
       "    <tr>\n",
       "      <th>2008-12-31</th>\n",
       "      <td>211.398</td>\n",
       "    </tr>\n",
       "    <tr>\n",
       "      <th>2009-03-31</th>\n",
       "      <td>212.495</td>\n",
       "    </tr>\n",
       "    <tr>\n",
       "      <th>2009-06-30</th>\n",
       "      <td>214.790</td>\n",
       "    </tr>\n",
       "    <tr>\n",
       "      <th>2009-09-30</th>\n",
       "      <td>215.861</td>\n",
       "    </tr>\n",
       "    <tr>\n",
       "      <th>2009-12-31</th>\n",
       "      <td>217.347</td>\n",
       "    </tr>\n",
       "    <tr>\n",
       "      <th>2010-03-31</th>\n",
       "      <td>217.353</td>\n",
       "    </tr>\n",
       "    <tr>\n",
       "      <th>2010-06-30</th>\n",
       "      <td>217.199</td>\n",
       "    </tr>\n",
       "    <tr>\n",
       "      <th>2010-09-30</th>\n",
       "      <td>218.275</td>\n",
       "    </tr>\n",
       "    <tr>\n",
       "      <th>2010-12-31</th>\n",
       "      <td>220.472</td>\n",
       "    </tr>\n",
       "    <tr>\n",
       "      <th>2011-03-31</th>\n",
       "      <td>223.046</td>\n",
       "    </tr>\n",
       "    <tr>\n",
       "      <th>2011-06-30</th>\n",
       "      <td>224.806</td>\n",
       "    </tr>\n",
       "    <tr>\n",
       "      <th>2011-09-30</th>\n",
       "      <td>226.597</td>\n",
       "    </tr>\n",
       "    <tr>\n",
       "      <th>2011-12-31</th>\n",
       "      <td>227.223</td>\n",
       "    </tr>\n",
       "    <tr>\n",
       "      <th>2012-03-31</th>\n",
       "      <td>228.807</td>\n",
       "    </tr>\n",
       "    <tr>\n",
       "      <th>2012-06-30</th>\n",
       "      <td>228.524</td>\n",
       "    </tr>\n",
       "    <tr>\n",
       "      <th>2012-09-30</th>\n",
       "      <td>231.015</td>\n",
       "    </tr>\n",
       "    <tr>\n",
       "      <th>2012-12-31</th>\n",
       "      <td>231.221</td>\n",
       "    </tr>\n",
       "    <tr>\n",
       "      <th>2013-03-31</th>\n",
       "      <td>232.282</td>\n",
       "    </tr>\n",
       "    <tr>\n",
       "      <th>2013-06-30</th>\n",
       "      <td>232.445</td>\n",
       "    </tr>\n",
       "    <tr>\n",
       "      <th>2013-09-30</th>\n",
       "      <td>233.544</td>\n",
       "    </tr>\n",
       "    <tr>\n",
       "      <th>2013-12-31</th>\n",
       "      <td>234.719</td>\n",
       "    </tr>\n",
       "    <tr>\n",
       "      <th>2014-03-31</th>\n",
       "      <td>236.028</td>\n",
       "    </tr>\n",
       "    <tr>\n",
       "      <th>2014-06-30</th>\n",
       "      <td>237.231</td>\n",
       "    </tr>\n",
       "    <tr>\n",
       "      <th>2014-09-30</th>\n",
       "      <td>237.477</td>\n",
       "    </tr>\n",
       "    <tr>\n",
       "      <th>2014-12-31</th>\n",
       "      <td>236.252</td>\n",
       "    </tr>\n",
       "    <tr>\n",
       "      <th>2015-03-31</th>\n",
       "      <td>235.976</td>\n",
       "    </tr>\n",
       "    <tr>\n",
       "      <th>2015-06-30</th>\n",
       "      <td>237.657</td>\n",
       "    </tr>\n",
       "    <tr>\n",
       "      <th>2015-09-30</th>\n",
       "      <td>237.498</td>\n",
       "    </tr>\n",
       "    <tr>\n",
       "      <th>2015-12-31</th>\n",
       "      <td>237.761</td>\n",
       "    </tr>\n",
       "    <tr>\n",
       "      <th>2016-03-31</th>\n",
       "      <td>237.990</td>\n",
       "    </tr>\n",
       "    <tr>\n",
       "      <th>2016-06-30</th>\n",
       "      <td>240.144</td>\n",
       "    </tr>\n",
       "    <tr>\n",
       "      <th>2016-09-30</th>\n",
       "      <td>241.068</td>\n",
       "    </tr>\n",
       "    <tr>\n",
       "      <th>2016-12-31</th>\n",
       "      <td>242.712</td>\n",
       "    </tr>\n",
       "    <tr>\n",
       "      <th>2017-03-31</th>\n",
       "      <td>243.721</td>\n",
       "    </tr>\n",
       "    <tr>\n",
       "      <th>2017-06-30</th>\n",
       "      <td>244.179</td>\n",
       "    </tr>\n",
       "    <tr>\n",
       "      <th>2017-09-30</th>\n",
       "      <td>246.445</td>\n",
       "    </tr>\n",
       "    <tr>\n",
       "      <th>2017-12-31</th>\n",
       "      <td>247.847</td>\n",
       "    </tr>\n",
       "    <tr>\n",
       "      <th>2018-03-31</th>\n",
       "      <td>249.413</td>\n",
       "    </tr>\n",
       "    <tr>\n",
       "      <th>2018-06-30</th>\n",
       "      <td>251.176</td>\n",
       "    </tr>\n",
       "    <tr>\n",
       "      <th>2018-09-30</th>\n",
       "      <td>252.261</td>\n",
       "    </tr>\n",
       "    <tr>\n",
       "      <th>2018-12-31</th>\n",
       "      <td>252.653</td>\n",
       "    </tr>\n",
       "    <tr>\n",
       "      <th>2019-03-31</th>\n",
       "      <td>254.095</td>\n",
       "    </tr>\n",
       "    <tr>\n",
       "      <th>2019-06-30</th>\n",
       "      <td>255.402</td>\n",
       "    </tr>\n",
       "    <tr>\n",
       "      <th>2019-09-30</th>\n",
       "      <td>256.593</td>\n",
       "    </tr>\n",
       "    <tr>\n",
       "      <th>2019-12-31</th>\n",
       "      <td>258.444</td>\n",
       "    </tr>\n",
       "    <tr>\n",
       "      <th>2020-03-31</th>\n",
       "      <td>257.953</td>\n",
       "    </tr>\n",
       "    <tr>\n",
       "      <th>2020-06-30</th>\n",
       "      <td>257.214</td>\n",
       "    </tr>\n",
       "    <tr>\n",
       "      <th>2020-09-30</th>\n",
       "      <td>260.209</td>\n",
       "    </tr>\n",
       "  </tbody>\n",
       "</table>\n",
       "</div>"
      ],
      "text/plain": [
       "              Value\n",
       "Date               \n",
       "2007-03-31  205.288\n",
       "2007-06-30  207.234\n",
       "2007-09-30  208.547\n",
       "2007-12-31  211.445\n",
       "2008-03-31  213.448\n",
       "2008-06-30  217.463\n",
       "2008-09-30  218.877\n",
       "2008-12-31  211.398\n",
       "2009-03-31  212.495\n",
       "2009-06-30  214.790\n",
       "2009-09-30  215.861\n",
       "2009-12-31  217.347\n",
       "2010-03-31  217.353\n",
       "2010-06-30  217.199\n",
       "2010-09-30  218.275\n",
       "2010-12-31  220.472\n",
       "2011-03-31  223.046\n",
       "2011-06-30  224.806\n",
       "2011-09-30  226.597\n",
       "2011-12-31  227.223\n",
       "2012-03-31  228.807\n",
       "2012-06-30  228.524\n",
       "2012-09-30  231.015\n",
       "2012-12-31  231.221\n",
       "2013-03-31  232.282\n",
       "2013-06-30  232.445\n",
       "2013-09-30  233.544\n",
       "2013-12-31  234.719\n",
       "2014-03-31  236.028\n",
       "2014-06-30  237.231\n",
       "2014-09-30  237.477\n",
       "2014-12-31  236.252\n",
       "2015-03-31  235.976\n",
       "2015-06-30  237.657\n",
       "2015-09-30  237.498\n",
       "2015-12-31  237.761\n",
       "2016-03-31  237.990\n",
       "2016-06-30  240.144\n",
       "2016-09-30  241.068\n",
       "2016-12-31  242.712\n",
       "2017-03-31  243.721\n",
       "2017-06-30  244.179\n",
       "2017-09-30  246.445\n",
       "2017-12-31  247.847\n",
       "2018-03-31  249.413\n",
       "2018-06-30  251.176\n",
       "2018-09-30  252.261\n",
       "2018-12-31  252.653\n",
       "2019-03-31  254.095\n",
       "2019-06-30  255.402\n",
       "2019-09-30  256.593\n",
       "2019-12-31  258.444\n",
       "2020-03-31  257.953\n",
       "2020-06-30  257.214\n",
       "2020-09-30  260.209"
      ]
     },
     "execution_count": 32,
     "metadata": {},
     "output_type": "execute_result"
    }
   ],
   "source": [
    "CPI.resample('Q').last()"
   ]
  },
  {
   "cell_type": "markdown",
   "metadata": {},
   "source": [
    "5.B."
   ]
  },
  {
   "cell_type": "code",
   "execution_count": 33,
   "metadata": {},
   "outputs": [
    {
     "data": {
      "text/html": [
       "<div>\n",
       "<style scoped>\n",
       "    .dataframe tbody tr th:only-of-type {\n",
       "        vertical-align: middle;\n",
       "    }\n",
       "\n",
       "    .dataframe tbody tr th {\n",
       "        vertical-align: top;\n",
       "    }\n",
       "\n",
       "    .dataframe thead th {\n",
       "        text-align: right;\n",
       "    }\n",
       "</style>\n",
       "<table border=\"1\" class=\"dataframe\">\n",
       "  <thead>\n",
       "    <tr style=\"text-align: right;\">\n",
       "      <th></th>\n",
       "      <th>FRED/DFF - Value</th>\n",
       "      <th>FRED/DPCREDIT - Value</th>\n",
       "      <th>FRED/UNRATE - Value</th>\n",
       "      <th>FRED/CPIAUCSL - Value</th>\n",
       "    </tr>\n",
       "  </thead>\n",
       "  <tbody>\n",
       "    <tr>\n",
       "      <th>FRED/DFF - Value</th>\n",
       "      <td>1.000000</td>\n",
       "      <td>0.989085</td>\n",
       "      <td>-0.573724</td>\n",
       "      <td>0.082867</td>\n",
       "    </tr>\n",
       "    <tr>\n",
       "      <th>FRED/DPCREDIT - Value</th>\n",
       "      <td>0.989085</td>\n",
       "      <td>1.000000</td>\n",
       "      <td>-0.634598</td>\n",
       "      <td>0.122208</td>\n",
       "    </tr>\n",
       "    <tr>\n",
       "      <th>FRED/UNRATE - Value</th>\n",
       "      <td>-0.573724</td>\n",
       "      <td>-0.634598</td>\n",
       "      <td>1.000000</td>\n",
       "      <td>-0.508480</td>\n",
       "    </tr>\n",
       "    <tr>\n",
       "      <th>FRED/CPIAUCSL - Value</th>\n",
       "      <td>0.082867</td>\n",
       "      <td>0.122208</td>\n",
       "      <td>-0.508480</td>\n",
       "      <td>1.000000</td>\n",
       "    </tr>\n",
       "  </tbody>\n",
       "</table>\n",
       "</div>"
      ],
      "text/plain": [
       "                       FRED/DFF - Value  FRED/DPCREDIT - Value  \\\n",
       "FRED/DFF - Value               1.000000               0.989085   \n",
       "FRED/DPCREDIT - Value          0.989085               1.000000   \n",
       "FRED/UNRATE - Value           -0.573724              -0.634598   \n",
       "FRED/CPIAUCSL - Value          0.082867               0.122208   \n",
       "\n",
       "                       FRED/UNRATE - Value  FRED/CPIAUCSL - Value  \n",
       "FRED/DFF - Value                 -0.573724               0.082867  \n",
       "FRED/DPCREDIT - Value            -0.634598               0.122208  \n",
       "FRED/UNRATE - Value               1.000000              -0.508480  \n",
       "FRED/CPIAUCSL - Value            -0.508480               1.000000  "
      ]
     },
     "execution_count": 33,
     "metadata": {},
     "output_type": "execute_result"
    }
   ],
   "source": [
    "df = quandl.get(['FRED/DFF','FRED/DPCREDIT','FRED/UNRATE','FRED/CPIAUCSL'], start_date = \"2007-09-01\", end_date = \"2020-09-01\")\n",
    "df.corr() # here we are using the series.corr method to depict the correlation analysis"
   ]
  },
  {
   "cell_type": "markdown",
   "metadata": {},
   "source": [
    "5.C."
   ]
  },
  {
   "cell_type": "code",
   "execution_count": 34,
   "metadata": {},
   "outputs": [],
   "source": [
    "df = df.resample('q').last()"
   ]
  },
  {
   "cell_type": "code",
   "execution_count": 35,
   "metadata": {},
   "outputs": [
    {
     "data": {
      "text/plain": [
       "Date\n",
       "2007-09-30         NaN\n",
       "2007-12-31         NaN\n",
       "2008-03-31         NaN\n",
       "2008-06-30    0.991656\n",
       "2008-09-30    0.958981\n",
       "2008-12-31   -0.398588\n",
       "2009-03-31   -0.806575\n",
       "2009-06-30   -0.478987\n",
       "2009-09-30    0.946762\n",
       "2009-12-31    0.964469\n",
       "2010-03-31    0.940843\n",
       "2010-06-30   -0.041843\n",
       "2010-09-30   -0.309507\n",
       "2010-12-31   -0.592912\n",
       "2011-03-31   -0.918107\n",
       "2011-06-30   -0.904011\n",
       "2011-09-30   -0.785131\n",
       "2011-12-31   -0.629617\n",
       "2012-03-31   -0.924466\n",
       "2012-06-30   -0.942132\n",
       "2012-09-30   -0.995074\n",
       "2012-12-31   -0.963540\n",
       "2013-03-31   -0.947138\n",
       "2013-06-30   -0.946567\n",
       "2013-09-30   -0.991271\n",
       "2013-12-31   -0.989579\n",
       "2014-03-31   -0.937910\n",
       "2014-06-30   -0.940742\n",
       "2014-09-30   -0.900911\n",
       "2014-12-31   -0.331542\n",
       "2015-03-31    0.912901\n",
       "2015-06-30    0.176317\n",
       "2015-09-30   -0.718642\n",
       "2015-12-31   -0.710919\n",
       "2016-03-31   -0.224604\n",
       "2016-06-30   -0.986194\n",
       "2016-09-30   -0.370872\n",
       "2016-12-31   -0.761735\n",
       "2017-03-31   -0.900894\n",
       "2017-06-30   -0.993766\n",
       "2017-09-30   -0.873664\n",
       "2017-12-31   -0.974014\n",
       "2018-03-31   -0.994060\n",
       "2018-06-30   -0.926936\n",
       "2018-09-30   -0.849529\n",
       "2018-12-31   -0.639331\n",
       "2019-03-31   -0.502477\n",
       "2019-06-30   -0.341305\n",
       "2019-09-30   -0.974699\n",
       "2019-12-31   -0.911546\n",
       "2020-03-31    0.244134\n",
       "2020-06-30   -0.244945\n",
       "2020-09-30   -0.162852\n",
       "Freq: Q-DEC, dtype: float64"
      ]
     },
     "execution_count": 35,
     "metadata": {},
     "output_type": "execute_result"
    }
   ],
   "source": [
    "df['FRED/UNRATE - Value'].rolling(4).corr(df['FRED/CPIAUCSL - Value'])"
   ]
  },
  {
   "cell_type": "markdown",
   "metadata": {},
   "source": [
    "The correlation between Unemployment Rate and Consumer Price Index is the highest in 2012-09-30 since the absolute value is the closest to 1 at this point."
   ]
  },
  {
   "cell_type": "markdown",
   "metadata": {},
   "source": [
    "5.D."
   ]
  },
  {
   "cell_type": "code",
   "execution_count": 36,
   "metadata": {},
   "outputs": [
    {
     "data": {
      "text/plain": [
       "Date\n",
       "2007-09-30         NaN\n",
       "2007-12-31         NaN\n",
       "2008-03-31         NaN\n",
       "2008-06-30         NaN\n",
       "2008-09-30         NaN\n",
       "2008-12-31         NaN\n",
       "2009-03-31         NaN\n",
       "2009-06-30         NaN\n",
       "2009-09-30         NaN\n",
       "2009-12-31    0.362215\n",
       "2010-03-31    0.251690\n",
       "2010-06-30    0.102945\n",
       "2010-09-30   -0.017986\n",
       "2010-12-31    0.169615\n",
       "2011-03-31    0.479689\n",
       "2011-06-30   -0.170233\n",
       "2011-09-30   -0.815970\n",
       "2011-12-31   -0.906745\n",
       "2012-03-31   -0.919257\n",
       "2012-06-30   -0.921080\n",
       "2012-09-30   -0.922541\n",
       "2012-12-31   -0.943124\n",
       "2013-03-31   -0.946866\n",
       "2013-06-30   -0.959374\n",
       "2013-09-30   -0.982669\n",
       "2013-12-31   -0.978216\n",
       "2014-03-31   -0.982405\n",
       "2014-06-30   -0.981786\n",
       "2014-09-30   -0.980693\n",
       "2014-12-31   -0.947191\n",
       "2015-03-31   -0.895331\n",
       "2015-06-30   -0.881408\n",
       "2015-09-30   -0.857506\n",
       "2015-12-31   -0.810775\n",
       "2016-03-31   -0.725875\n",
       "2016-06-30   -0.605298\n",
       "2016-09-30   -0.530568\n",
       "2016-12-31   -0.687952\n",
       "2017-03-31   -0.885156\n",
       "2017-06-30   -0.917804\n",
       "2017-09-30   -0.927985\n",
       "2017-12-31   -0.948094\n",
       "2018-03-31   -0.958321\n",
       "2018-06-30   -0.949108\n",
       "2018-09-30   -0.954028\n",
       "2018-12-31   -0.933433\n",
       "2019-03-31   -0.937952\n",
       "2019-06-30   -0.959833\n",
       "2019-09-30   -0.954144\n",
       "2019-12-31   -0.951693\n",
       "2020-03-31   -0.325714\n",
       "2020-06-30    0.283293\n",
       "2020-09-30    0.443597\n",
       "Freq: Q-DEC, dtype: float64"
      ]
     },
     "execution_count": 36,
     "metadata": {},
     "output_type": "execute_result"
    }
   ],
   "source": [
    "df['FRED/UNRATE - Value'].rolling(10).corr(df['FRED/CPIAUCSL - Value'])"
   ]
  },
  {
   "cell_type": "markdown",
   "metadata": {},
   "source": [
    "The highest correlation between Unemployment Rate and Consumer Price Index in 2013-09-30 since the absolute value is closest to 1 at this point."
   ]
  },
  {
   "cell_type": "code",
   "execution_count": null,
   "metadata": {},
   "outputs": [],
   "source": []
  }
 ],
 "metadata": {
  "kernelspec": {
   "display_name": "Python 3",
   "language": "python",
   "name": "python3"
  },
  "language_info": {
   "codemirror_mode": {
    "name": "ipython",
    "version": 3
   },
   "file_extension": ".py",
   "mimetype": "text/x-python",
   "name": "python",
   "nbconvert_exporter": "python",
   "pygments_lexer": "ipython3",
   "version": "3.8.3"
  }
 },
 "nbformat": 4,
 "nbformat_minor": 4
}
