{
 "cells": [
  {
   "cell_type": "markdown",
   "metadata": {},
   "source": [
    "# PROJECT 1"
   ]
  },
  {
   "cell_type": "markdown",
   "metadata": {},
   "source": [
    "# 1. Q1 "
   ]
  },
  {
   "cell_type": "markdown",
   "metadata": {},
   "source": [
    "# Expenditures"
   ]
  },
  {
   "cell_type": "code",
   "execution_count": 277,
   "metadata": {},
   "outputs": [],
   "source": [
    "import pandas as pd\n",
    "import numpy as np\n",
    "import matplotlib.pyplot as plt"
   ]
  },
  {
   "cell_type": "markdown",
   "metadata": {},
   "source": [
    "First, we will calculate the growth rate of Real Personal Consumption Expenditures over the past 10 years.(8/1/2010-8/1/2020)\n",
    "To begin, we will import this data."
   ]
  },
  {
   "cell_type": "code",
   "execution_count": 278,
   "metadata": {},
   "outputs": [],
   "source": [
    "data1 = pd.read_csv(\"PCEC96.csv\")"
   ]
  },
  {
   "cell_type": "code",
   "execution_count": 279,
   "metadata": {},
   "outputs": [
    {
     "data": {
      "text/html": [
       "<div>\n",
       "<style scoped>\n",
       "    .dataframe tbody tr th:only-of-type {\n",
       "        vertical-align: middle;\n",
       "    }\n",
       "\n",
       "    .dataframe tbody tr th {\n",
       "        vertical-align: top;\n",
       "    }\n",
       "\n",
       "    .dataframe thead th {\n",
       "        text-align: right;\n",
       "    }\n",
       "</style>\n",
       "<table border=\"1\" class=\"dataframe\">\n",
       "  <thead>\n",
       "    <tr style=\"text-align: right;\">\n",
       "      <th></th>\n",
       "      <th>PCEC96</th>\n",
       "    </tr>\n",
       "  </thead>\n",
       "  <tbody>\n",
       "    <tr>\n",
       "      <th>count</th>\n",
       "      <td>121.000000</td>\n",
       "    </tr>\n",
       "    <tr>\n",
       "      <th>mean</th>\n",
       "      <td>11932.926446</td>\n",
       "    </tr>\n",
       "    <tr>\n",
       "      <th>std</th>\n",
       "      <td>859.143007</td>\n",
       "    </tr>\n",
       "    <tr>\n",
       "      <th>min</th>\n",
       "      <td>10689.800000</td>\n",
       "    </tr>\n",
       "    <tr>\n",
       "      <th>25%</th>\n",
       "      <td>11101.200000</td>\n",
       "    </tr>\n",
       "    <tr>\n",
       "      <th>50%</th>\n",
       "      <td>11936.700000</td>\n",
       "    </tr>\n",
       "    <tr>\n",
       "      <th>75%</th>\n",
       "      <td>12668.500000</td>\n",
       "    </tr>\n",
       "    <tr>\n",
       "      <th>max</th>\n",
       "      <td>13416.700000</td>\n",
       "    </tr>\n",
       "  </tbody>\n",
       "</table>\n",
       "</div>"
      ],
      "text/plain": [
       "             PCEC96\n",
       "count    121.000000\n",
       "mean   11932.926446\n",
       "std      859.143007\n",
       "min    10689.800000\n",
       "25%    11101.200000\n",
       "50%    11936.700000\n",
       "75%    12668.500000\n",
       "max    13416.700000"
      ]
     },
     "execution_count": 279,
     "metadata": {},
     "output_type": "execute_result"
    }
   ],
   "source": [
    "data1.describe()"
   ]
  },
  {
   "cell_type": "markdown",
   "metadata": {},
   "source": [
    "Here, we define DATE as an object variable and convert it to a datetime."
   ]
  },
  {
   "cell_type": "code",
   "execution_count": 280,
   "metadata": {},
   "outputs": [
    {
     "data": {
      "text/plain": [
       "0      2010-08-01\n",
       "1      2010-09-01\n",
       "2      2010-10-01\n",
       "3      2010-11-01\n",
       "4      2010-12-01\n",
       "          ...    \n",
       "116    2020-04-01\n",
       "117    2020-05-01\n",
       "118    2020-06-01\n",
       "119    2020-07-01\n",
       "120    2020-08-01\n",
       "Name: DATE, Length: 121, dtype: object"
      ]
     },
     "execution_count": 280,
     "metadata": {},
     "output_type": "execute_result"
    }
   ],
   "source": [
    "data1.DATE"
   ]
  },
  {
   "cell_type": "code",
   "execution_count": 281,
   "metadata": {},
   "outputs": [],
   "source": [
    "data1['DATE'] = pd.to_datetime(data1['DATE'])\n",
    "data1 = data1.set_index('DATE')"
   ]
  },
  {
   "cell_type": "code",
   "execution_count": 282,
   "metadata": {},
   "outputs": [
    {
     "data": {
      "text/html": [
       "<div>\n",
       "<style scoped>\n",
       "    .dataframe tbody tr th:only-of-type {\n",
       "        vertical-align: middle;\n",
       "    }\n",
       "\n",
       "    .dataframe tbody tr th {\n",
       "        vertical-align: top;\n",
       "    }\n",
       "\n",
       "    .dataframe thead th {\n",
       "        text-align: right;\n",
       "    }\n",
       "</style>\n",
       "<table border=\"1\" class=\"dataframe\">\n",
       "  <thead>\n",
       "    <tr style=\"text-align: right;\">\n",
       "      <th></th>\n",
       "      <th>PCEC96</th>\n",
       "    </tr>\n",
       "    <tr>\n",
       "      <th>DATE</th>\n",
       "      <th></th>\n",
       "    </tr>\n",
       "  </thead>\n",
       "  <tbody>\n",
       "    <tr>\n",
       "      <th>2010-08-01</th>\n",
       "      <td>10689.8</td>\n",
       "    </tr>\n",
       "    <tr>\n",
       "      <th>2010-09-01</th>\n",
       "      <td>10701.6</td>\n",
       "    </tr>\n",
       "    <tr>\n",
       "      <th>2010-10-01</th>\n",
       "      <td>10728.0</td>\n",
       "    </tr>\n",
       "    <tr>\n",
       "      <th>2010-11-01</th>\n",
       "      <td>10759.8</td>\n",
       "    </tr>\n",
       "    <tr>\n",
       "      <th>2010-12-01</th>\n",
       "      <td>10774.2</td>\n",
       "    </tr>\n",
       "  </tbody>\n",
       "</table>\n",
       "</div>"
      ],
      "text/plain": [
       "             PCEC96\n",
       "DATE               \n",
       "2010-08-01  10689.8\n",
       "2010-09-01  10701.6\n",
       "2010-10-01  10728.0\n",
       "2010-11-01  10759.8\n",
       "2010-12-01  10774.2"
      ]
     },
     "execution_count": 282,
     "metadata": {},
     "output_type": "execute_result"
    }
   ],
   "source": [
    "data1.head()"
   ]
  },
  {
   "cell_type": "markdown",
   "metadata": {},
   "source": [
    "Next we will create a new variable, log of Real Personal Consumption Expenditures. (This will be exemplified as logPCEC96.)"
   ]
  },
  {
   "cell_type": "code",
   "execution_count": 283,
   "metadata": {},
   "outputs": [],
   "source": [
    "data1['PCEC96'] = pd.to_numeric(data1['PCEC96'], errors = 'coerce')\n",
    "data1['PCEC96'] = data1['PCEC96']/100"
   ]
  },
  {
   "cell_type": "code",
   "execution_count": 284,
   "metadata": {},
   "outputs": [],
   "source": [
    "data1['logPCEC96'] = np.log(data1['PCEC96'])"
   ]
  },
  {
   "cell_type": "markdown",
   "metadata": {},
   "source": [
    "Here, we will add a variable PCEC969(t-1) because we will be needing this variable in order to calculate growth rate."
   ]
  },
  {
   "cell_type": "code",
   "execution_count": 285,
   "metadata": {},
   "outputs": [],
   "source": [
    "data1['PCEC96_t_1'] = data1['PCEC96'].shift()"
   ]
  },
  {
   "cell_type": "markdown",
   "metadata": {},
   "source": [
    "Now we will calculate the growth rate of Real Personal Consumption Expenditures and the log ratio of the growth rate. The growth rate will be exemplified as the variable PCEC96_g and the variable representing the log ratio of the growth is PCEC96_I_r."
   ]
  },
  {
   "cell_type": "code",
   "execution_count": 286,
   "metadata": {},
   "outputs": [
    {
     "data": {
      "text/html": [
       "<div>\n",
       "<style scoped>\n",
       "    .dataframe tbody tr th:only-of-type {\n",
       "        vertical-align: middle;\n",
       "    }\n",
       "\n",
       "    .dataframe tbody tr th {\n",
       "        vertical-align: top;\n",
       "    }\n",
       "\n",
       "    .dataframe thead th {\n",
       "        text-align: right;\n",
       "    }\n",
       "</style>\n",
       "<table border=\"1\" class=\"dataframe\">\n",
       "  <thead>\n",
       "    <tr style=\"text-align: right;\">\n",
       "      <th></th>\n",
       "      <th>PCEC96</th>\n",
       "      <th>logPCEC96</th>\n",
       "      <th>PCEC96_t_1</th>\n",
       "      <th>PCEC96_g</th>\n",
       "      <th>PCEC96_l_r</th>\n",
       "    </tr>\n",
       "    <tr>\n",
       "      <th>DATE</th>\n",
       "      <th></th>\n",
       "      <th></th>\n",
       "      <th></th>\n",
       "      <th></th>\n",
       "      <th></th>\n",
       "    </tr>\n",
       "  </thead>\n",
       "  <tbody>\n",
       "    <tr>\n",
       "      <th>2010-08-01</th>\n",
       "      <td>106.898</td>\n",
       "      <td>4.671875</td>\n",
       "      <td>NaN</td>\n",
       "      <td>NaN</td>\n",
       "      <td>NaN</td>\n",
       "    </tr>\n",
       "    <tr>\n",
       "      <th>2010-09-01</th>\n",
       "      <td>107.016</td>\n",
       "      <td>4.672978</td>\n",
       "      <td>106.898</td>\n",
       "      <td>0.001104</td>\n",
       "      <td>0.001103</td>\n",
       "    </tr>\n",
       "    <tr>\n",
       "      <th>2010-10-01</th>\n",
       "      <td>107.280</td>\n",
       "      <td>4.675442</td>\n",
       "      <td>107.016</td>\n",
       "      <td>0.002467</td>\n",
       "      <td>0.002464</td>\n",
       "    </tr>\n",
       "    <tr>\n",
       "      <th>2010-11-01</th>\n",
       "      <td>107.598</td>\n",
       "      <td>4.678402</td>\n",
       "      <td>107.280</td>\n",
       "      <td>0.002964</td>\n",
       "      <td>0.002960</td>\n",
       "    </tr>\n",
       "    <tr>\n",
       "      <th>2010-12-01</th>\n",
       "      <td>107.742</td>\n",
       "      <td>4.679739</td>\n",
       "      <td>107.598</td>\n",
       "      <td>0.001338</td>\n",
       "      <td>0.001337</td>\n",
       "    </tr>\n",
       "  </tbody>\n",
       "</table>\n",
       "</div>"
      ],
      "text/plain": [
       "             PCEC96  logPCEC96  PCEC96_t_1  PCEC96_g  PCEC96_l_r\n",
       "DATE                                                            \n",
       "2010-08-01  106.898   4.671875         NaN       NaN         NaN\n",
       "2010-09-01  107.016   4.672978     106.898  0.001104    0.001103\n",
       "2010-10-01  107.280   4.675442     107.016  0.002467    0.002464\n",
       "2010-11-01  107.598   4.678402     107.280  0.002964    0.002960\n",
       "2010-12-01  107.742   4.679739     107.598  0.001338    0.001337"
      ]
     },
     "execution_count": 286,
     "metadata": {},
     "output_type": "execute_result"
    }
   ],
   "source": [
    "data1['PCEC96_g'] = (data1['PCEC96']-data1['PCEC96_t_1'])/data1['PCEC96_t_1']\n",
    "data1['PCEC96_l_r'] = data1['logPCEC96']-data1['logPCEC96'].shift()\n",
    "data1.head()"
   ]
  },
  {
   "cell_type": "code",
   "execution_count": 287,
   "metadata": {},
   "outputs": [
    {
     "data": {
      "text/plain": [
       "<matplotlib.legend.Legend at 0x1f937b46a90>"
      ]
     },
     "execution_count": 287,
     "metadata": {},
     "output_type": "execute_result"
    },
    {
     "data": {
      "image/png": "[encoded data removed]",
      "text/plain": [
       "<Figure size 432x288 with 1 Axes>"
      ]
     },
     "metadata": {
      "needs_background": "light"
     },
     "output_type": "display_data"
    }
   ],
   "source": [
    "ax = data1['PCEC96'].plot(kind = 'line', label = 'RPCE', colormap='jet', marker='.', title = 'Real Personal Consumer Expenditures')\n",
    "ax.set_xlabel('Date')\n",
    "ax.set_ylabel('Expenditures')\n",
    "ax.legend(loc = 'upper left')"
   ]
  },
  {
   "cell_type": "markdown",
   "metadata": {},
   "source": [
    "After calculating both the growth rate of Real Personal Consumption Expenditures and the log ratio of the growth rate, we will now place them on the same graph together,(with Time on the X axis and growth rate/log ratio of growth rate on the Y axis), in order to see how they are similar and different over the past 10 years."
   ]
  },
  {
   "cell_type": "code",
   "execution_count": 288,
   "metadata": {},
   "outputs": [],
   "source": [
    "import matplotlib.pyplot as plt"
   ]
  },
  {
   "cell_type": "code",
   "execution_count": 289,
   "metadata": {},
   "outputs": [
    {
     "data": {
      "text/plain": [
       "<matplotlib.legend.Legend at 0x1f938bdafa0>"
      ]
     },
     "execution_count": 289,
     "metadata": {},
     "output_type": "execute_result"
    },
    {
     "data": {
      "image/png": "[encoded data removed]",
      "text/plain": [
       "<Figure size 864x360 with 2 Axes>"
      ]
     },
     "metadata": {
      "needs_background": "light"
     },
     "output_type": "display_data"
    }
   ],
   "source": [
    "plt.figure(figsize = (12,5))\n",
    "plt.subplot(121)\n",
    "plt.plot(data1['PCEC96_g'],'--', label = 'Growth_rates')\n",
    "plt.plot(data1['PCEC96_l_r'],  label = 'Log_ratio')\n",
    "plt.ylabel('Growth rates / Log ratio')\n",
    "plt.legend()\n",
    "\n",
    "plt.subplot(122)\n",
    "plt.plot(data1['PCEC96_g']-data1['PCEC96_l_r'],  label = 'Diff')\n",
    "plt.ylabel('Growth rates - Log Ratio')\n",
    "plt.legend()"
   ]
  },
  {
   "cell_type": "markdown",
   "metadata": {},
   "source": [
    "The graph on the right depcits the difference between growth rates and the log ratio of the growth rates of Real Personal Consumption Expenditures over the past 10 years. Here, we can see that the difference between these two variables is close to zero, with the highest differential being around .008 in March 2020. In addition, we try to reduce the amount of variation in the growth rates of Real Personal Consumption Expenditures in the short run by taking the log ratio of the growth rates. This way, we can more easily determine long term trends in the growth rates. The difference between these two variables was close to zero for basically all of the 10 years because the growth rates themselves do not vary much in the short run, even though growth rates have clearly have a positive trend over the past 10 years. However, in March 2020, the difference between the growth rates and the log ratio is high because the growth rates of Real Personal Consumption Expenditures dramatically changed in a short period of time because the COVID-19 lockdown was announced. When the lockdown was announced, businesses closed and many consumers were left withouts, putting a lot of fear into many consumers. Thus, as a result of consumer's expectations changing, consumers started spending much less in a short period of time which ultimately led to this high difference in growth rates and the log ratio of the growth rates."
   ]
  },
  {
   "cell_type": "markdown",
   "metadata": {},
   "source": [
    "# 1. Q1"
   ]
  },
  {
   "cell_type": "markdown",
   "metadata": {},
   "source": [
    "# Investment"
   ]
  },
  {
   "cell_type": "markdown",
   "metadata": {},
   "source": [
    "Now, we will import the data from FRED on Real Gross Private Domestic Investment. Real Gross Private Domestic Investment will be represented as GPDIC1. Here we are repeating the steps from \"Q1 Expenditures\" in order to graph the differences between the growth rates of Real Gross Private Domestic Investment and the log ratio of the growth rates. Once they are graphed, we will be able to visually compare them below."
   ]
  },
  {
   "cell_type": "code",
   "execution_count": 290,
   "metadata": {},
   "outputs": [],
   "source": [
    "data2 = pd.read_csv(\"GPDIC1.csv\")"
   ]
  },
  {
   "cell_type": "code",
   "execution_count": 291,
   "metadata": {},
   "outputs": [
    {
     "data": {
      "text/html": [
       "<div>\n",
       "<style scoped>\n",
       "    .dataframe tbody tr th:only-of-type {\n",
       "        vertical-align: middle;\n",
       "    }\n",
       "\n",
       "    .dataframe tbody tr th {\n",
       "        vertical-align: top;\n",
       "    }\n",
       "\n",
       "    .dataframe thead th {\n",
       "        text-align: right;\n",
       "    }\n",
       "</style>\n",
       "<table border=\"1\" class=\"dataframe\">\n",
       "  <thead>\n",
       "    <tr style=\"text-align: right;\">\n",
       "      <th></th>\n",
       "      <th>GPDIC1</th>\n",
       "    </tr>\n",
       "  </thead>\n",
       "  <tbody>\n",
       "    <tr>\n",
       "      <th>count</th>\n",
       "      <td>41.000000</td>\n",
       "    </tr>\n",
       "    <tr>\n",
       "      <th>mean</th>\n",
       "      <td>2945.615049</td>\n",
       "    </tr>\n",
       "    <tr>\n",
       "      <th>std</th>\n",
       "      <td>378.529369</td>\n",
       "    </tr>\n",
       "    <tr>\n",
       "      <th>min</th>\n",
       "      <td>2196.706000</td>\n",
       "    </tr>\n",
       "    <tr>\n",
       "      <th>25%</th>\n",
       "      <td>2648.459000</td>\n",
       "    </tr>\n",
       "    <tr>\n",
       "      <th>50%</th>\n",
       "      <td>3047.027000</td>\n",
       "    </tr>\n",
       "    <tr>\n",
       "      <th>75%</th>\n",
       "      <td>3207.492000</td>\n",
       "    </tr>\n",
       "    <tr>\n",
       "      <th>max</th>\n",
       "      <td>3481.311000</td>\n",
       "    </tr>\n",
       "  </tbody>\n",
       "</table>\n",
       "</div>"
      ],
      "text/plain": [
       "            GPDIC1\n",
       "count    41.000000\n",
       "mean   2945.615049\n",
       "std     378.529369\n",
       "min    2196.706000\n",
       "25%    2648.459000\n",
       "50%    3047.027000\n",
       "75%    3207.492000\n",
       "max    3481.311000"
      ]
     },
     "execution_count": 291,
     "metadata": {},
     "output_type": "execute_result"
    }
   ],
   "source": [
    "data2.describe()"
   ]
  },
  {
   "cell_type": "code",
   "execution_count": 292,
   "metadata": {},
   "outputs": [
    {
     "data": {
      "text/plain": [
       "0     2010-04-01\n",
       "1     2010-07-01\n",
       "2     2010-10-01\n",
       "3     2011-01-01\n",
       "4     2011-04-01\n",
       "5     2011-07-01\n",
       "6     2011-10-01\n",
       "7     2012-01-01\n",
       "8     2012-04-01\n",
       "9     2012-07-01\n",
       "10    2012-10-01\n",
       "11    2013-01-01\n",
       "12    2013-04-01\n",
       "13    2013-07-01\n",
       "14    2013-10-01\n",
       "15    2014-01-01\n",
       "16    2014-04-01\n",
       "17    2014-07-01\n",
       "18    2014-10-01\n",
       "19    2015-01-01\n",
       "20    2015-04-01\n",
       "21    2015-07-01\n",
       "22    2015-10-01\n",
       "23    2016-01-01\n",
       "24    2016-04-01\n",
       "25    2016-07-01\n",
       "26    2016-10-01\n",
       "27    2017-01-01\n",
       "28    2017-04-01\n",
       "29    2017-07-01\n",
       "30    2017-10-01\n",
       "31    2018-01-01\n",
       "32    2018-04-01\n",
       "33    2018-07-01\n",
       "34    2018-10-01\n",
       "35    2019-01-01\n",
       "36    2019-04-01\n",
       "37    2019-07-01\n",
       "38    2019-10-01\n",
       "39    2020-01-01\n",
       "40    2020-04-01\n",
       "Name: DATE, dtype: object"
      ]
     },
     "execution_count": 292,
     "metadata": {},
     "output_type": "execute_result"
    }
   ],
   "source": [
    "data2['DATE']"
   ]
  },
  {
   "cell_type": "code",
   "execution_count": 293,
   "metadata": {},
   "outputs": [],
   "source": [
    "data2['DATE'] = pd.to_datetime(data2['DATE'])\n",
    "data2 = data2.set_index('DATE')"
   ]
  },
  {
   "cell_type": "code",
   "execution_count": 294,
   "metadata": {},
   "outputs": [
    {
     "data": {
      "text/html": [
       "<div>\n",
       "<style scoped>\n",
       "    .dataframe tbody tr th:only-of-type {\n",
       "        vertical-align: middle;\n",
       "    }\n",
       "\n",
       "    .dataframe tbody tr th {\n",
       "        vertical-align: top;\n",
       "    }\n",
       "\n",
       "    .dataframe thead th {\n",
       "        text-align: right;\n",
       "    }\n",
       "</style>\n",
       "<table border=\"1\" class=\"dataframe\">\n",
       "  <thead>\n",
       "    <tr style=\"text-align: right;\">\n",
       "      <th></th>\n",
       "      <th>GPDIC1</th>\n",
       "    </tr>\n",
       "    <tr>\n",
       "      <th>DATE</th>\n",
       "      <th></th>\n",
       "    </tr>\n",
       "  </thead>\n",
       "  <tbody>\n",
       "    <tr>\n",
       "      <th>2010-04-01</th>\n",
       "      <td>2196.706</td>\n",
       "    </tr>\n",
       "    <tr>\n",
       "      <th>2010-07-01</th>\n",
       "      <td>2294.672</td>\n",
       "    </tr>\n",
       "    <tr>\n",
       "      <th>2010-10-01</th>\n",
       "      <td>2287.362</td>\n",
       "    </tr>\n",
       "    <tr>\n",
       "      <th>2011-01-01</th>\n",
       "      <td>2244.241</td>\n",
       "    </tr>\n",
       "    <tr>\n",
       "      <th>2011-04-01</th>\n",
       "      <td>2336.057</td>\n",
       "    </tr>\n",
       "  </tbody>\n",
       "</table>\n",
       "</div>"
      ],
      "text/plain": [
       "              GPDIC1\n",
       "DATE                \n",
       "2010-04-01  2196.706\n",
       "2010-07-01  2294.672\n",
       "2010-10-01  2287.362\n",
       "2011-01-01  2244.241\n",
       "2011-04-01  2336.057"
      ]
     },
     "execution_count": 294,
     "metadata": {},
     "output_type": "execute_result"
    }
   ],
   "source": [
    "data2.head()"
   ]
  },
  {
   "cell_type": "code",
   "execution_count": 295,
   "metadata": {},
   "outputs": [],
   "source": [
    "data2['GPDIC1'] = pd.to_numeric(data2['GPDIC1'], errors = 'coerce')\n",
    "data2['GPDIC1'] = data2['GPDIC1']/100"
   ]
  },
  {
   "cell_type": "code",
   "execution_count": 296,
   "metadata": {},
   "outputs": [],
   "source": [
    "data2['logGPDIC1'] = np.log(data2['GPDIC1'])"
   ]
  },
  {
   "cell_type": "code",
   "execution_count": 297,
   "metadata": {},
   "outputs": [],
   "source": [
    "data2['GPDIC1_t_1'] = data2['GPDIC1'].shift()"
   ]
  },
  {
   "cell_type": "code",
   "execution_count": 298,
   "metadata": {},
   "outputs": [
    {
     "data": {
      "text/html": [
       "<div>\n",
       "<style scoped>\n",
       "    .dataframe tbody tr th:only-of-type {\n",
       "        vertical-align: middle;\n",
       "    }\n",
       "\n",
       "    .dataframe tbody tr th {\n",
       "        vertical-align: top;\n",
       "    }\n",
       "\n",
       "    .dataframe thead th {\n",
       "        text-align: right;\n",
       "    }\n",
       "</style>\n",
       "<table border=\"1\" class=\"dataframe\">\n",
       "  <thead>\n",
       "    <tr style=\"text-align: right;\">\n",
       "      <th></th>\n",
       "      <th>GPDIC1</th>\n",
       "      <th>logGPDIC1</th>\n",
       "      <th>GPDIC1_t_1</th>\n",
       "      <th>GPDIC1_g</th>\n",
       "      <th>GPDIC1_l_r</th>\n",
       "    </tr>\n",
       "    <tr>\n",
       "      <th>DATE</th>\n",
       "      <th></th>\n",
       "      <th></th>\n",
       "      <th></th>\n",
       "      <th></th>\n",
       "      <th></th>\n",
       "    </tr>\n",
       "  </thead>\n",
       "  <tbody>\n",
       "    <tr>\n",
       "      <th>2010-04-01</th>\n",
       "      <td>21.96706</td>\n",
       "      <td>3.089544</td>\n",
       "      <td>NaN</td>\n",
       "      <td>NaN</td>\n",
       "      <td>NaN</td>\n",
       "    </tr>\n",
       "    <tr>\n",
       "      <th>2010-07-01</th>\n",
       "      <td>22.94672</td>\n",
       "      <td>3.133175</td>\n",
       "      <td>21.96706</td>\n",
       "      <td>0.044597</td>\n",
       "      <td>0.043631</td>\n",
       "    </tr>\n",
       "    <tr>\n",
       "      <th>2010-10-01</th>\n",
       "      <td>22.87362</td>\n",
       "      <td>3.129984</td>\n",
       "      <td>22.94672</td>\n",
       "      <td>-0.003186</td>\n",
       "      <td>-0.003191</td>\n",
       "    </tr>\n",
       "    <tr>\n",
       "      <th>2011-01-01</th>\n",
       "      <td>22.44241</td>\n",
       "      <td>3.110952</td>\n",
       "      <td>22.87362</td>\n",
       "      <td>-0.018852</td>\n",
       "      <td>-0.019032</td>\n",
       "    </tr>\n",
       "    <tr>\n",
       "      <th>2011-04-01</th>\n",
       "      <td>23.36057</td>\n",
       "      <td>3.151050</td>\n",
       "      <td>22.44241</td>\n",
       "      <td>0.040912</td>\n",
       "      <td>0.040097</td>\n",
       "    </tr>\n",
       "  </tbody>\n",
       "</table>\n",
       "</div>"
      ],
      "text/plain": [
       "              GPDIC1  logGPDIC1  GPDIC1_t_1  GPDIC1_g  GPDIC1_l_r\n",
       "DATE                                                             \n",
       "2010-04-01  21.96706   3.089544         NaN       NaN         NaN\n",
       "2010-07-01  22.94672   3.133175    21.96706  0.044597    0.043631\n",
       "2010-10-01  22.87362   3.129984    22.94672 -0.003186   -0.003191\n",
       "2011-01-01  22.44241   3.110952    22.87362 -0.018852   -0.019032\n",
       "2011-04-01  23.36057   3.151050    22.44241  0.040912    0.040097"
      ]
     },
     "execution_count": 298,
     "metadata": {},
     "output_type": "execute_result"
    }
   ],
   "source": [
    "data2['GPDIC1_g'] = (data2['GPDIC1']-data2['GPDIC1_t_1'])/data2['GPDIC1_t_1']\n",
    "data2['GPDIC1_l_r'] = data2['logGPDIC1']-data2['logGPDIC1'].shift()\n",
    "data2.head()"
   ]
  },
  {
   "cell_type": "code",
   "execution_count": 299,
   "metadata": {},
   "outputs": [
    {
     "ename": "KeyError",
     "evalue": "'GPDIC1'",
     "output_type": "error",
     "traceback": [
      "\u001b[1;31m---------------------------------------------------------------------------\u001b[0m",
      "\u001b[1;31mKeyError\u001b[0m                                  Traceback (most recent call last)",
      "\u001b[1;32m~\\anaconda3\\lib\\site-packages\\pandas\\core\\indexes\\base.py\u001b[0m in \u001b[0;36mget_loc\u001b[1;34m(self, key, method, tolerance)\u001b[0m\n\u001b[0;32m   2645\u001b[0m             \u001b[1;32mtry\u001b[0m\u001b[1;33m:\u001b[0m\u001b[1;33m\u001b[0m\u001b[1;33m\u001b[0m\u001b[0m\n\u001b[1;32m-> 2646\u001b[1;33m                 \u001b[1;32mreturn\u001b[0m \u001b[0mself\u001b[0m\u001b[1;33m.\u001b[0m\u001b[0m_engine\u001b[0m\u001b[1;33m.\u001b[0m\u001b[0mget_loc\u001b[0m\u001b[1;33m(\u001b[0m\u001b[0mkey\u001b[0m\u001b[1;33m)\u001b[0m\u001b[1;33m\u001b[0m\u001b[1;33m\u001b[0m\u001b[0m\n\u001b[0m\u001b[0;32m   2647\u001b[0m             \u001b[1;32mexcept\u001b[0m \u001b[0mKeyError\u001b[0m\u001b[1;33m:\u001b[0m\u001b[1;33m\u001b[0m\u001b[1;33m\u001b[0m\u001b[0m\n",
      "\u001b[1;32mpandas\\_libs\\index.pyx\u001b[0m in \u001b[0;36mpandas._libs.index.IndexEngine.get_loc\u001b[1;34m()\u001b[0m\n",
      "\u001b[1;32mpandas\\_libs\\index.pyx\u001b[0m in \u001b[0;36mpandas._libs.index.IndexEngine.get_loc\u001b[1;34m()\u001b[0m\n",
      "\u001b[1;32mpandas\\_libs\\hashtable_class_helper.pxi\u001b[0m in \u001b[0;36mpandas._libs.hashtable.PyObjectHashTable.get_item\u001b[1;34m()\u001b[0m\n",
      "\u001b[1;32mpandas\\_libs\\hashtable_class_helper.pxi\u001b[0m in \u001b[0;36mpandas._libs.hashtable.PyObjectHashTable.get_item\u001b[1;34m()\u001b[0m\n",
      "\u001b[1;31mKeyError\u001b[0m: 'GPDIC1'",
      "\nDuring handling of the above exception, another exception occurred:\n",
      "\u001b[1;31mKeyError\u001b[0m                                  Traceback (most recent call last)",
      "\u001b[1;32m<ipython-input-299-cb542e791d45>\u001b[0m in \u001b[0;36m<module>\u001b[1;34m\u001b[0m\n\u001b[1;32m----> 1\u001b[1;33m \u001b[0max\u001b[0m \u001b[1;33m=\u001b[0m \u001b[0mdata1\u001b[0m\u001b[1;33m[\u001b[0m\u001b[1;34m'GPDIC1'\u001b[0m\u001b[1;33m]\u001b[0m\u001b[1;33m.\u001b[0m\u001b[0mplot\u001b[0m\u001b[1;33m(\u001b[0m\u001b[0mkind\u001b[0m \u001b[1;33m=\u001b[0m \u001b[1;34m'line'\u001b[0m\u001b[1;33m,\u001b[0m \u001b[0mlabel\u001b[0m \u001b[1;33m=\u001b[0m \u001b[1;34m'RGPDI'\u001b[0m\u001b[1;33m,\u001b[0m \u001b[0mcolormap\u001b[0m\u001b[1;33m=\u001b[0m\u001b[1;34m'jet'\u001b[0m\u001b[1;33m,\u001b[0m \u001b[0mmarker\u001b[0m\u001b[1;33m=\u001b[0m\u001b[1;34m'.'\u001b[0m\u001b[1;33m,\u001b[0m \u001b[0mtitle\u001b[0m \u001b[1;33m=\u001b[0m \u001b[1;34m'Real Gross Private Domestic Investment'\u001b[0m\u001b[1;33m)\u001b[0m\u001b[1;33m\u001b[0m\u001b[1;33m\u001b[0m\u001b[0m\n\u001b[0m\u001b[0;32m      2\u001b[0m \u001b[0max\u001b[0m\u001b[1;33m.\u001b[0m\u001b[0mset_xlabel\u001b[0m\u001b[1;33m(\u001b[0m\u001b[1;34m'Date'\u001b[0m\u001b[1;33m)\u001b[0m\u001b[1;33m\u001b[0m\u001b[1;33m\u001b[0m\u001b[0m\n\u001b[0;32m      3\u001b[0m \u001b[0max\u001b[0m\u001b[1;33m.\u001b[0m\u001b[0mset_ylabel\u001b[0m\u001b[1;33m(\u001b[0m\u001b[1;34m'Investment'\u001b[0m\u001b[1;33m)\u001b[0m\u001b[1;33m\u001b[0m\u001b[1;33m\u001b[0m\u001b[0m\n\u001b[0;32m      4\u001b[0m \u001b[0max\u001b[0m\u001b[1;33m.\u001b[0m\u001b[0mlegend\u001b[0m\u001b[1;33m(\u001b[0m\u001b[0mloc\u001b[0m \u001b[1;33m=\u001b[0m \u001b[1;34m'upper left'\u001b[0m\u001b[1;33m)\u001b[0m\u001b[1;33m\u001b[0m\u001b[1;33m\u001b[0m\u001b[0m\n",
      "\u001b[1;32m~\\anaconda3\\lib\\site-packages\\pandas\\core\\frame.py\u001b[0m in \u001b[0;36m__getitem__\u001b[1;34m(self, key)\u001b[0m\n\u001b[0;32m   2798\u001b[0m             \u001b[1;32mif\u001b[0m \u001b[0mself\u001b[0m\u001b[1;33m.\u001b[0m\u001b[0mcolumns\u001b[0m\u001b[1;33m.\u001b[0m\u001b[0mnlevels\u001b[0m \u001b[1;33m>\u001b[0m \u001b[1;36m1\u001b[0m\u001b[1;33m:\u001b[0m\u001b[1;33m\u001b[0m\u001b[1;33m\u001b[0m\u001b[0m\n\u001b[0;32m   2799\u001b[0m                 \u001b[1;32mreturn\u001b[0m \u001b[0mself\u001b[0m\u001b[1;33m.\u001b[0m\u001b[0m_getitem_multilevel\u001b[0m\u001b[1;33m(\u001b[0m\u001b[0mkey\u001b[0m\u001b[1;33m)\u001b[0m\u001b[1;33m\u001b[0m\u001b[1;33m\u001b[0m\u001b[0m\n\u001b[1;32m-> 2800\u001b[1;33m             \u001b[0mindexer\u001b[0m \u001b[1;33m=\u001b[0m \u001b[0mself\u001b[0m\u001b[1;33m.\u001b[0m\u001b[0mcolumns\u001b[0m\u001b[1;33m.\u001b[0m\u001b[0mget_loc\u001b[0m\u001b[1;33m(\u001b[0m\u001b[0mkey\u001b[0m\u001b[1;33m)\u001b[0m\u001b[1;33m\u001b[0m\u001b[1;33m\u001b[0m\u001b[0m\n\u001b[0m\u001b[0;32m   2801\u001b[0m             \u001b[1;32mif\u001b[0m \u001b[0mis_integer\u001b[0m\u001b[1;33m(\u001b[0m\u001b[0mindexer\u001b[0m\u001b[1;33m)\u001b[0m\u001b[1;33m:\u001b[0m\u001b[1;33m\u001b[0m\u001b[1;33m\u001b[0m\u001b[0m\n\u001b[0;32m   2802\u001b[0m                 \u001b[0mindexer\u001b[0m \u001b[1;33m=\u001b[0m \u001b[1;33m[\u001b[0m\u001b[0mindexer\u001b[0m\u001b[1;33m]\u001b[0m\u001b[1;33m\u001b[0m\u001b[1;33m\u001b[0m\u001b[0m\n",
      "\u001b[1;32m~\\anaconda3\\lib\\site-packages\\pandas\\core\\indexes\\base.py\u001b[0m in \u001b[0;36mget_loc\u001b[1;34m(self, key, method, tolerance)\u001b[0m\n\u001b[0;32m   2646\u001b[0m                 \u001b[1;32mreturn\u001b[0m \u001b[0mself\u001b[0m\u001b[1;33m.\u001b[0m\u001b[0m_engine\u001b[0m\u001b[1;33m.\u001b[0m\u001b[0mget_loc\u001b[0m\u001b[1;33m(\u001b[0m\u001b[0mkey\u001b[0m\u001b[1;33m)\u001b[0m\u001b[1;33m\u001b[0m\u001b[1;33m\u001b[0m\u001b[0m\n\u001b[0;32m   2647\u001b[0m             \u001b[1;32mexcept\u001b[0m \u001b[0mKeyError\u001b[0m\u001b[1;33m:\u001b[0m\u001b[1;33m\u001b[0m\u001b[1;33m\u001b[0m\u001b[0m\n\u001b[1;32m-> 2648\u001b[1;33m                 \u001b[1;32mreturn\u001b[0m \u001b[0mself\u001b[0m\u001b[1;33m.\u001b[0m\u001b[0m_engine\u001b[0m\u001b[1;33m.\u001b[0m\u001b[0mget_loc\u001b[0m\u001b[1;33m(\u001b[0m\u001b[0mself\u001b[0m\u001b[1;33m.\u001b[0m\u001b[0m_maybe_cast_indexer\u001b[0m\u001b[1;33m(\u001b[0m\u001b[0mkey\u001b[0m\u001b[1;33m)\u001b[0m\u001b[1;33m)\u001b[0m\u001b[1;33m\u001b[0m\u001b[1;33m\u001b[0m\u001b[0m\n\u001b[0m\u001b[0;32m   2649\u001b[0m         \u001b[0mindexer\u001b[0m \u001b[1;33m=\u001b[0m \u001b[0mself\u001b[0m\u001b[1;33m.\u001b[0m\u001b[0mget_indexer\u001b[0m\u001b[1;33m(\u001b[0m\u001b[1;33m[\u001b[0m\u001b[0mkey\u001b[0m\u001b[1;33m]\u001b[0m\u001b[1;33m,\u001b[0m \u001b[0mmethod\u001b[0m\u001b[1;33m=\u001b[0m\u001b[0mmethod\u001b[0m\u001b[1;33m,\u001b[0m \u001b[0mtolerance\u001b[0m\u001b[1;33m=\u001b[0m\u001b[0mtolerance\u001b[0m\u001b[1;33m)\u001b[0m\u001b[1;33m\u001b[0m\u001b[1;33m\u001b[0m\u001b[0m\n\u001b[0;32m   2650\u001b[0m         \u001b[1;32mif\u001b[0m \u001b[0mindexer\u001b[0m\u001b[1;33m.\u001b[0m\u001b[0mndim\u001b[0m \u001b[1;33m>\u001b[0m \u001b[1;36m1\u001b[0m \u001b[1;32mor\u001b[0m \u001b[0mindexer\u001b[0m\u001b[1;33m.\u001b[0m\u001b[0msize\u001b[0m \u001b[1;33m>\u001b[0m \u001b[1;36m1\u001b[0m\u001b[1;33m:\u001b[0m\u001b[1;33m\u001b[0m\u001b[1;33m\u001b[0m\u001b[0m\n",
      "\u001b[1;32mpandas\\_libs\\index.pyx\u001b[0m in \u001b[0;36mpandas._libs.index.IndexEngine.get_loc\u001b[1;34m()\u001b[0m\n",
      "\u001b[1;32mpandas\\_libs\\index.pyx\u001b[0m in \u001b[0;36mpandas._libs.index.IndexEngine.get_loc\u001b[1;34m()\u001b[0m\n",
      "\u001b[1;32mpandas\\_libs\\hashtable_class_helper.pxi\u001b[0m in \u001b[0;36mpandas._libs.hashtable.PyObjectHashTable.get_item\u001b[1;34m()\u001b[0m\n",
      "\u001b[1;32mpandas\\_libs\\hashtable_class_helper.pxi\u001b[0m in \u001b[0;36mpandas._libs.hashtable.PyObjectHashTable.get_item\u001b[1;34m()\u001b[0m\n",
      "\u001b[1;31mKeyError\u001b[0m: 'GPDIC1'"
     ]
    }
   ],
   "source": [
    "ax = data1['GPDIC1'].plot(kind = 'line', label = 'RGPDI', colormap='jet', marker='.', title = 'Real Gross Private Domestic Investment')\n",
    "ax.set_xlabel('Date')\n",
    "ax.set_ylabel('Investment')\n",
    "ax.legend(loc = 'upper left')"
   ]
  },
  {
   "cell_type": "code",
   "execution_count": null,
   "metadata": {},
   "outputs": [],
   "source": [
    "import matplotlib.pyplot as plt"
   ]
  },
  {
   "cell_type": "code",
   "execution_count": null,
   "metadata": {},
   "outputs": [],
   "source": [
    "plt.figure(figsize = (12,5))\n",
    "plt.subplot(121)\n",
    "plt.plot(data2['GPDIC1_g'],'--', label = 'Growth_rates')\n",
    "plt.plot(data2['GPDIC1_l_r'],  label = 'Log_ratio')\n",
    "plt.ylabel('Growth rates / Log ratio')\n",
    "plt.legend()\n",
    "\n",
    "plt.subplot(122)\n",
    "plt.plot(data2['GPDIC1_g']-data2['GPDIC1_l_r'],  label = 'Diff')\n",
    "plt.ylabel('Growth rates - Log Ratio')\n",
    "plt.legend()"
   ]
  },
  {
   "cell_type": "markdown",
   "metadata": {},
   "source": [
    "Here, we can see that while the difference in growth rates and the log ratio are mostly close to zero, there is evidently more variation in Real Gross Private Domestic Investment than in Real Personal Consumption Expenditures over the past 10 years. The difference has multiple small peaks from 2011 to 2015. These small peaks occurred because large changes in growth rates occurred over small periods of time, which led to these multiple, small peaks occuring. Even though these small peaks existed, the GPDIC1 ultimately stayed on the same trend from 2011 to 2015, which explains why the difference stays close to zero for most of the past 10 years. Furthermore, the difference between growth rates and the log ratio skyrocketed in 2020, as a result of a large decrease in the growth rates of GPDIC1. This likely happened because of the lockdowns that occurred as a result of COVID-19 in March 2020. Once COVID-19 lockdowns began, consumers were significantly fearful and their expectations of the market drastically fell. Thus, many consumers sold off investments in a very short period of time, leading to the large variance in the growth rates of GPDIC1."
   ]
  },
  {
   "cell_type": "markdown",
   "metadata": {},
   "source": [
    "# 2. Q2 (a)"
   ]
  },
  {
   "cell_type": "markdown",
   "metadata": {},
   "source": [
    "# Bond YTM"
   ]
  },
  {
   "cell_type": "code",
   "execution_count": null,
   "metadata": {},
   "outputs": [],
   "source": [
    "import numpy as np\n",
    "import scipy as sc"
   ]
  },
  {
   "cell_type": "code",
   "execution_count": null,
   "metadata": {},
   "outputs": [],
   "source": [
    "def bondpv(ytm,term,coupon_rate,face):\n",
    "    coupons = face * coupon_rate\n",
    "    discounted_coupons = [coupons/(1+ytm)**(i+1) for i in range(term)]\n",
    "    discounted_face = face/(1+ytm)**term\n",
    "    return discounted_face + sum(discounted_coupons)"
   ]
  },
  {
   "cell_type": "code",
   "execution_count": null,
   "metadata": {},
   "outputs": [],
   "source": [
    "from scipy import optimize"
   ]
  },
  {
   "cell_type": "code",
   "execution_count": null,
   "metadata": {},
   "outputs": [],
   "source": [
    "optimize.newton(lambda ytm: bondpv(ytm, term=30, coupon_rate=.1, face=1000)-1280, .1)"
   ]
  },
  {
   "cell_type": "markdown",
   "metadata": {},
   "source": [
    "Above, we calculated the yield to maturity of the Treasury Bond.\n",
    "\n",
    "YTM = 0.0760494196883131"
   ]
  },
  {
   "cell_type": "markdown",
   "metadata": {},
   "source": [
    "# Bond Duration"
   ]
  },
  {
   "cell_type": "code",
   "execution_count": null,
   "metadata": {},
   "outputs": [],
   "source": [
    "def bondmacd(ytm,term,coupon_rate,face):\n",
    "    coupons = face * coupon_rate\n",
    "    discounted_coupons = [coupons/(1+ytm)**(i+1) for i in range(term)]\n",
    "    discounted_face = face/(1+ytm)**term\n",
    "    return discounted_face + sum(discounted_coupons) / discounted_face"
   ]
  },
  {
   "cell_type": "code",
   "execution_count": null,
   "metadata": {},
   "outputs": [],
   "source": [
    "bondmacd(ytm=0.0760494196883131, term=30, coupon_rate=.1, face=1000)"
   ]
  },
  {
   "cell_type": "markdown",
   "metadata": {},
   "source": [
    "Above, we calculated the Macauly Duration of the Treasury Bond.\n",
    "\n",
    "MACD = 121.46525155591354"
   ]
  },
  {
   "cell_type": "markdown",
   "metadata": {},
   "source": [
    "# Note YTM"
   ]
  },
  {
   "cell_type": "code",
   "execution_count": null,
   "metadata": {},
   "outputs": [],
   "source": [
    "import numpy as np\n",
    "import scipy as sc"
   ]
  },
  {
   "cell_type": "code",
   "execution_count": null,
   "metadata": {},
   "outputs": [],
   "source": [
    "def notepv(ytm,term,coupon_rate,face):\n",
    "    coupons = face * coupon_rate\n",
    "    discounted_coupons = [coupons/(1+ytm)**(i+1) for i in range(term)]\n",
    "    discounted_face = face/(1+ytm)**term\n",
    "    return discounted_face + sum(discounted_coupons)"
   ]
  },
  {
   "cell_type": "code",
   "execution_count": null,
   "metadata": {},
   "outputs": [],
   "source": [
    "from scipy import optimize"
   ]
  },
  {
   "cell_type": "code",
   "execution_count": null,
   "metadata": {},
   "outputs": [],
   "source": [
    "optimize.newton(lambda ytm: notepv(ytm, term=10, coupon_rate=.07, face=1000)-1000, .07)"
   ]
  },
  {
   "cell_type": "markdown",
   "metadata": {},
   "source": [
    "Above, we calculated the yield to maturity of the treasury note.\n",
    "\n",
    "YTM = 0.07000000000000012"
   ]
  },
  {
   "cell_type": "markdown",
   "metadata": {},
   "source": [
    "# Note Duration"
   ]
  },
  {
   "cell_type": "code",
   "execution_count": null,
   "metadata": {},
   "outputs": [],
   "source": [
    "def notemacd(ytm,term,coupon_rate,face):\n",
    "    coupons = face * coupon_rate\n",
    "    discounted_coupons = [coupons/(1+ytm)**(i+1) for i in range(term)]\n",
    "    discounted_face = face/(1+ytm)**term\n",
    "    return discounted_face + sum(discounted_coupons) / discounted_face"
   ]
  },
  {
   "cell_type": "code",
   "execution_count": null,
   "metadata": {},
   "outputs": [],
   "source": [
    "notemacd(ytm=0.07000000000000012, term=10, coupon_rate=.07, face=1000)"
   ]
  },
  {
   "cell_type": "markdown",
   "metadata": {},
   "source": [
    "Above, we calculated the Macaulay Duration of the Treasury Note.\n",
    "\n",
    "MACD = 509.3164434920071"
   ]
  },
  {
   "cell_type": "markdown",
   "metadata": {},
   "source": [
    "Thus, after calculating the Macaulay Duration for both the Bond and the Note, I would choose the Bond because it has a lower Macaulay Duration then the Note. Therefore, I would receive my full payments sooner with the Bond than the Note."
   ]
  },
  {
   "cell_type": "markdown",
   "metadata": {},
   "source": [
    "# 2. Q2 (b)"
   ]
  },
  {
   "cell_type": "markdown",
   "metadata": {},
   "source": [
    "# Gains/Losses of the Bond"
   ]
  },
  {
   "cell_type": "code",
   "execution_count": null,
   "metadata": {},
   "outputs": [],
   "source": [
    "import numpy as np\n",
    "import scipy as sc"
   ]
  },
  {
   "cell_type": "code",
   "execution_count": null,
   "metadata": {},
   "outputs": [],
   "source": [
    "def bondpv(ytm,term,coupon_rate,face):\n",
    "    coupons = face * coupon_rate\n",
    "    discounted_coupons = [coupons/(1+ytm)**(i+1) for i in range(term)]\n",
    "    discounted_face = face/(1+ytm)**term\n",
    "    return discounted_face + sum(discounted_coupons)"
   ]
  },
  {
   "cell_type": "code",
   "execution_count": null,
   "metadata": {},
   "outputs": [],
   "source": [
    "optimize.newton(lambda ytm: bondpv(ytm, term=28, coupon_rate=.1, face=1000)-1280, .1)"
   ]
  },
  {
   "cell_type": "code",
   "execution_count": null,
   "metadata": {},
   "outputs": [],
   "source": [
    "bondpv(ytm=0.07565732447350135, term=28, coupon_rate=.1, face=1000)"
   ]
  },
  {
   "cell_type": "markdown",
   "metadata": {},
   "source": [
    "Above, we calculated the present value of the bond in the 2nd year. Now, we will calculate the bond in the 3rd year so we can compare later."
   ]
  },
  {
   "cell_type": "code",
   "execution_count": null,
   "metadata": {},
   "outputs": [],
   "source": [
    "bondpv(ytm=-.02434267553, term=27, coupon_rate=.1, face=1000)"
   ]
  },
  {
   "cell_type": "markdown",
   "metadata": {},
   "source": [
    "Now that we calculated the present value of the bond in the 3rd year, we can subtract the 2nd year's present value from the 3rd year's present value in order to find our profits/losses.\n",
    "\n",
    "5828.284763877801 - 1279.999999999952 = 4548.284764\n",
    "\n",
    "Therefore, we can currently sell the Bond at the price of 5828.28 dollars and make a profit of 4548.28 dollars."
   ]
  },
  {
   "cell_type": "markdown",
   "metadata": {},
   "source": [
    "# Gains/Losses of the Note"
   ]
  },
  {
   "cell_type": "code",
   "execution_count": null,
   "metadata": {},
   "outputs": [],
   "source": [
    "import numpy as np\n",
    "import scipy as sc"
   ]
  },
  {
   "cell_type": "code",
   "execution_count": null,
   "metadata": {},
   "outputs": [],
   "source": [
    "def notepv(ytm,term,coupon_rate,face):\n",
    "    coupons = face * coupon_rate\n",
    "    discounted_coupons = [coupons/(1+ytm)**(i+1) for i in range(term)]\n",
    "    discounted_face = face/(1+ytm)**term\n",
    "    return discounted_face + sum(discounted_coupons)"
   ]
  },
  {
   "cell_type": "code",
   "execution_count": null,
   "metadata": {},
   "outputs": [],
   "source": [
    "optimize.newton(lambda ytm: notepv(ytm, term=28, coupon_rate=.07, face=1000)-1000, .07)"
   ]
  },
  {
   "cell_type": "code",
   "execution_count": null,
   "metadata": {},
   "outputs": [],
   "source": [
    "notepv(ytm=0.07000000000000006, term=28, coupon_rate=.07, face=1000)"
   ]
  },
  {
   "cell_type": "markdown",
   "metadata": {},
   "source": [
    "Above, we calculated the present value of the note in the 2nd year. Now, we will calculate the note in the 3rd year so we can compare later."
   ]
  },
  {
   "cell_type": "code",
   "execution_count": null,
   "metadata": {},
   "outputs": [],
   "source": [
    "bondpv(ytm=-.03, term=27, coupon_rate=.07, face=1000)"
   ]
  },
  {
   "cell_type": "markdown",
   "metadata": {},
   "source": [
    "Now that we calculated the present value of the note in the 3rd year, we can subtract the 2nd year's present value from the 3rd year's present value in order to find our profits/losses.\n",
    "\n",
    "5253.174666103384 - 999.9999999999991 = 4253.174667\n",
    "\n",
    "Therefore, we can currently sell the Note at the price of 5253.17 dollars and make a profit of 4253.17 dollars."
   ]
  },
  {
   "cell_type": "markdown",
   "metadata": {},
   "source": [
    "# 2. Q2 (c)"
   ]
  },
  {
   "cell_type": "markdown",
   "metadata": {},
   "source": [
    "# Bond PV"
   ]
  },
  {
   "cell_type": "markdown",
   "metadata": {},
   "source": [
    "Below, we will calculate the Present Value of the Bond after the first year while incorporating the fact that yields are 15% higher."
   ]
  },
  {
   "cell_type": "code",
   "execution_count": null,
   "metadata": {},
   "outputs": [],
   "source": [
    "import numpy as np\n",
    "import scipy as sc"
   ]
  },
  {
   "cell_type": "code",
   "execution_count": null,
   "metadata": {},
   "outputs": [],
   "source": [
    "def bondpv(ytm,term,coupon_rate,face):\n",
    "    coupons = face * coupon_rate\n",
    "    discounted_coupons = [coupons/(1+ytm)**(i+1) for i in range(term)]\n",
    "    discounted_face = face/(1+ytm)**term\n",
    "    return discounted_face + sum(discounted_coupons)"
   ]
  },
  {
   "cell_type": "code",
   "execution_count": null,
   "metadata": {},
   "outputs": [],
   "source": [
    "optimize.newton(lambda ytm: bondpv(ytm, term=29, coupon_rate=.1, face=1000)-1280, .1)"
   ]
  },
  {
   "cell_type": "code",
   "execution_count": null,
   "metadata": {},
   "outputs": [],
   "source": [
    "bondpv(ytm=.2258628, term=29, coupon_rate=.1, face=1000)"
   ]
  },
  {
   "cell_type": "code",
   "execution_count": null,
   "metadata": {},
   "outputs": [],
   "source": [
    "optimize.newton(lambda ytm: bondpv(ytm, term=30, coupon_rate=.1, face=1000)-1280, .1)"
   ]
  },
  {
   "cell_type": "code",
   "execution_count": null,
   "metadata": {},
   "outputs": [],
   "source": [
    "bondpv(ytm=0.0760494196883131, term=30, coupon_rate=.1, face=1000)"
   ]
  },
  {
   "cell_type": "markdown",
   "metadata": {},
   "source": [
    "We will subtract the old present value of the bond from the new present value.\n",
    "\n",
    "444.26454251994863 - 1279.9999999999309 = -835.7354565\n",
    "\n",
    "Since this results in a negative value, we incur a loss of -835.74 dollars from the Bond"
   ]
  },
  {
   "cell_type": "markdown",
   "metadata": {},
   "source": [
    "# Note PV"
   ]
  },
  {
   "cell_type": "markdown",
   "metadata": {},
   "source": [
    "Below, we will calculate the Present Value of the Note after the first year."
   ]
  },
  {
   "cell_type": "code",
   "execution_count": null,
   "metadata": {},
   "outputs": [],
   "source": [
    "import numpy as np\n",
    "import scipy as sc"
   ]
  },
  {
   "cell_type": "code",
   "execution_count": null,
   "metadata": {},
   "outputs": [],
   "source": [
    "def notepv(ytm,term,coupon_rate,face):\n",
    "    coupons = face * coupon_rate\n",
    "    discounted_coupons = [coupons/(1+ytm)**(i+1) for i in range(term)]\n",
    "    discounted_face = face/(1+ytm)**term\n",
    "    return discounted_face + sum(discounted_coupons)"
   ]
  },
  {
   "cell_type": "code",
   "execution_count": null,
   "metadata": {},
   "outputs": [],
   "source": [
    "optimize.newton(lambda ytm: notepv(ytm, term=29, coupon_rate=.07, face=1000)-1000, .07)"
   ]
  },
  {
   "cell_type": "code",
   "execution_count": null,
   "metadata": {},
   "outputs": [],
   "source": [
    "notepv(ytm=0.07000000000000009, term=29, coupon_rate=.07, face=1000)"
   ]
  },
  {
   "cell_type": "code",
   "execution_count": null,
   "metadata": {},
   "outputs": [],
   "source": [
    "optimize.newton(lambda ytm: notepv(ytm, term=30, coupon_rate=.07, face=1000)-1000, .07)"
   ]
  },
  {
   "cell_type": "code",
   "execution_count": null,
   "metadata": {},
   "outputs": [],
   "source": [
    "notepv(ytm=0.07000000000000009, term=30, coupon_rate=.07, face=1000)"
   ]
  },
  {
   "cell_type": "markdown",
   "metadata": {},
   "source": [
    "Since the Present Value of the Note does note change from when you bought it to after the first year, this demonstrates that your friend would neither incur a gain nor a loss from purchasing the T-Note. In this case, your friend is better off purchasing the Note then you are by purchasing the bond. The yield of the Note must decrease by 15% in order to experience a similar loss as me."
   ]
  },
  {
   "cell_type": "markdown",
   "metadata": {},
   "source": [
    "# 3. Q3 (a)"
   ]
  },
  {
   "cell_type": "code",
   "execution_count": null,
   "metadata": {},
   "outputs": [],
   "source": [
    "import pandas as pd\n",
    "import numpy as np\n",
    "import matplotlib.pyplot as plt"
   ]
  },
  {
   "cell_type": "code",
   "execution_count": null,
   "metadata": {},
   "outputs": [],
   "source": [
    "data3 = pd.read_csv(\"AAPL.csv\")"
   ]
  },
  {
   "cell_type": "code",
   "execution_count": null,
   "metadata": {},
   "outputs": [],
   "source": [
    "data3['Date']"
   ]
  },
  {
   "cell_type": "code",
   "execution_count": null,
   "metadata": {},
   "outputs": [],
   "source": [
    "data3['Date'] = pd.to_datetime(data3['Date'])"
   ]
  },
  {
   "cell_type": "code",
   "execution_count": null,
   "metadata": {},
   "outputs": [],
   "source": [
    "data3 = data3.set_index('Date')"
   ]
  },
  {
   "cell_type": "code",
   "execution_count": null,
   "metadata": {},
   "outputs": [],
   "source": [
    "data3.Close.resample('q').last()"
   ]
  },
  {
   "cell_type": "code",
   "execution_count": null,
   "metadata": {},
   "outputs": [],
   "source": [
    "data = pd.DataFrame()\n",
    "data['Stock_p'] = data3.Close.resample('q').last()"
   ]
  },
  {
   "cell_type": "code",
   "execution_count": null,
   "metadata": {},
   "outputs": [],
   "source": [
    "data4 = pd.read_csv(\"AAPLD.csv\")"
   ]
  },
  {
   "cell_type": "code",
   "execution_count": null,
   "metadata": {},
   "outputs": [],
   "source": [
    "data4['Date'] = pd.to_datetime(data4['Date'])\n",
    "data4 = data4.set_index(data4['Date'])\n",
    "data4.head()"
   ]
  },
  {
   "cell_type": "code",
   "execution_count": null,
   "metadata": {},
   "outputs": [],
   "source": [
    "data4.Dividends.resample('q').last()"
   ]
  },
  {
   "cell_type": "code",
   "execution_count": null,
   "metadata": {},
   "outputs": [],
   "source": [
    "data['Dvd'] = data4.Dividends.resample('q').last()"
   ]
  },
  {
   "cell_type": "code",
   "execution_count": null,
   "metadata": {},
   "outputs": [],
   "source": [
    "data['Stock_1'] = data['Stock_p'].shift()"
   ]
  },
  {
   "cell_type": "code",
   "execution_count": null,
   "metadata": {},
   "outputs": [],
   "source": [
    "data['Return'] = (data['Stock_p'] - data['Stock_1'] + data['Dvd'])/data['Stock_1']"
   ]
  },
  {
   "cell_type": "code",
   "execution_count": null,
   "metadata": {},
   "outputs": [],
   "source": [
    "data.fillna(0, inplace = True)\n",
    "data.head()"
   ]
  },
  {
   "cell_type": "code",
   "execution_count": null,
   "metadata": {},
   "outputs": [],
   "source": [
    "data.tail()"
   ]
  },
  {
   "cell_type": "markdown",
   "metadata": {},
   "source": [
    "Above, we can see the quarterly return on equity for an investor in Apple Stock for the first five, and last five, quarters during the time between 2015 Q2 and 2020 Q2. The quarterly return from the most recent quarter available, Q1 2020, is -0.131415. "
   ]
  },
  {
   "cell_type": "markdown",
   "metadata": {},
   "source": [
    "# 3. Q3 (b)"
   ]
  },
  {
   "cell_type": "code",
   "execution_count": null,
   "metadata": {},
   "outputs": [],
   "source": [
    "Below, we will use the Gordon Growth Model to predict the growth rate of the Apple Stock."
   ]
  },
  {
   "cell_type": "code",
   "execution_count": null,
   "metadata": {},
   "outputs": [],
   "source": [
    "data['growth'] = (data['Return']*data['Stock_p'] - data['Dvd'])/(data['Stock_p'] + data['Dvd'])"
   ]
  },
  {
   "cell_type": "code",
   "execution_count": null,
   "metadata": {},
   "outputs": [],
   "source": [
    "data.tail()"
   ]
  },
  {
   "cell_type": "markdown",
   "metadata": {},
   "source": [
    "As we can see above, in the most recent quarter where data is available, Q1 2020, the Growth Model's prediction is very similar to the actual return on equity which demonstrates that the predicted dividend is very similar to the average real dividend for Q1 2020."
   ]
  }
 ],
 "metadata": {
  "kernelspec": {
   "display_name": "Python 3",
   "language": "python",
   "name": "python3"
  },
  "language_info": {
   "codemirror_mode": {
    "name": "ipython",
    "version": 3
   },
   "file_extension": ".py",
   "mimetype": "text/x-python",
   "name": "python",
   "nbconvert_exporter": "python",
   "pygments_lexer": "ipython3",
   "version": "3.8.3"
  }
 },
 "nbformat": 4,
 "nbformat_minor": 4
}
